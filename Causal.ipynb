{
 "cells": [
  {
   "cell_type": "markdown",
   "metadata": {
    "id": "tAENjX9kQayj"
   },
   "source": [
    "# Context\n",
    "Using a 10% sample (~100k users) of SF R2E Jan-Mar cohort's data, we leverage various meta-learners' predictions to validate the inference results.\n",
    "\n",
    "\n",
    "# Methodology\n",
    "#### Data Prep\n",
    "1. Calculate propensity (in this case, propensity of Riders converting into Eaters)\n",
    "2. Match Treatment users with Control users using propensity score\n",
    "3. Validate whether Control and Treatment have similar pre-treatment behavior by measuring Standardized Mean Difference (SMD) of matching covariates\n",
    "4. Re-calibrate propensity scores again\n",
    "5. Validate matching again using SMD\n",
    "\n",
    "#### Modeling\n",
    "1. Iterate over meta learners (S/T/X/R Learner) using 2 models (Linear Regression and XGBoost), and predict GB lift for every learner-model pair.\n",
    "2. Compare predictions by examining ATE (Average Treatment Effect, which is simply the mean of predictions) and distribution of treatment effect.\n",
    "\n",
    "#### Sensitivity Analysis\n",
    "We provided five methods for sensitivity analysis including (Placebb Treatment, Random Cause, Subset Data, Random Replace and Selection Bias).\n",
    "This notebook will walkthrough how to use the combined function sensitivity_analysis() to compare different method and also how to use each individual method separately:\n",
    "\n",
    "1. Placebo Treatment: Replacing treatment with a random variable\n",
    "2. Irrelevant Additional Confounder: Adding a random common cause variable\n",
    "3. Subset validation: Removing a random subset of the data\n",
    "4. Selection Bias method with One Sided confounding function and Alignment confounding function\n",
    "5. Random Replace: Random replace a covariate with an irrelevant variable"
   ]
  },
  {
   "cell_type": "code",
   "execution_count": null,
   "metadata": {
    "colab": {
     "base_uri": "https://localhost:8080/"
    },
    "id": "37gPaWOHGTRp",
    "outputId": "e04f317c-da38-4cd4-ef21-006e49e80299"
   },
   "outputs": [
    {
     "name": "stdout",
     "output_type": "stream",
     "text": [
      "Mounted at /content/drive\n"
     ]
    }
   ],
   "source": [
    "from google.colab import drive\n",
    "drive.mount('/content/drive')"
   ]
  },
  {
   "cell_type": "code",
   "execution_count": null,
   "metadata": {
    "colab": {
     "base_uri": "https://localhost:8080/"
    },
    "id": "vbcViGPZaPi0",
    "outputId": "ca31efbf-7d7b-4db3-f3b9-ffbed120faef"
   },
   "outputs": [
    {
     "name": "stdout",
     "output_type": "stream",
     "text": [
      "fatal: destination path 'causalml' already exists and is not an empty directory.\n"
     ]
    }
   ],
   "source": [
    "# !pip install causalml\n",
    "\n",
    "# !git clone https://github.com/uber/causalml.git\n",
    "# !cd causalml\n",
    "# !pip install -r causalml/requirements.txt\n",
    "!git clone https://github.com/uber/causalml.git\n",
    "!cd causalml"
   ]
  },
  {
   "cell_type": "code",
   "execution_count": null,
   "metadata": {
    "colab": {
     "base_uri": "https://localhost:8080/"
    },
    "id": "STlgCajOYdPZ",
    "outputId": "d2694c04-3060-4c15-872f-eda6197225ba"
   },
   "outputs": [
    {
     "name": "stdout",
     "output_type": "stream",
     "text": [
      "causalml  sample_data\n"
     ]
    }
   ],
   "source": []
  },
  {
   "cell_type": "code",
   "execution_count": null,
   "metadata": {
    "ExecuteTime": {
     "end_time": "2019-06-25T22:15:40.625430Z",
     "start_time": "2019-06-25T22:15:39.089085Z"
    },
    "colab": {
     "base_uri": "https://localhost:8080/",
     "height": 378
    },
    "id": "L2U4gGmUQayj",
    "outputId": "f5ce6b7e-4730-4945-d107-29a7941b9376"
   },
   "outputs": [
    {
     "ename": "ModuleNotFoundError",
     "errorDetails": {
      "actions": [
       {
        "action": "open_url",
        "actionText": "Open Examples",
        "url": "/notebooks/snippets/importing_libraries.ipynb"
       }
      ]
     },
     "evalue": "ignored",
     "output_type": "error",
     "traceback": [
      "\u001b[0;31m---------------------------------------------------------------------------\u001b[0m",
      "\u001b[0;31mModuleNotFoundError\u001b[0m                       Traceback (most recent call last)",
      "\u001b[0;32m<ipython-input-1-13b1f8bdb4c8>\u001b[0m in \u001b[0;36m<cell line: 14>\u001b[0;34m()\u001b[0m\n\u001b[1;32m     12\u001b[0m \u001b[0;32mimport\u001b[0m \u001b[0msys\u001b[0m\u001b[0;34m\u001b[0m\u001b[0;34m\u001b[0m\u001b[0m\n\u001b[1;32m     13\u001b[0m \u001b[0;34m\u001b[0m\u001b[0m\n\u001b[0;32m---> 14\u001b[0;31m \u001b[0;32mfrom\u001b[0m \u001b[0mcausalml\u001b[0m\u001b[0;34m.\u001b[0m\u001b[0minference\u001b[0m\u001b[0;34m.\u001b[0m\u001b[0mmeta\u001b[0m \u001b[0;32mimport\u001b[0m \u001b[0mBaseSRegressor\u001b[0m\u001b[0;34m,\u001b[0m \u001b[0mBaseTRegressor\u001b[0m\u001b[0;34m,\u001b[0m \u001b[0mBaseRRegressor\u001b[0m\u001b[0;34m,\u001b[0m \u001b[0mBaseXRegressor\u001b[0m\u001b[0;34m\u001b[0m\u001b[0;34m\u001b[0m\u001b[0m\n\u001b[0m\u001b[1;32m     15\u001b[0m \u001b[0;32mfrom\u001b[0m \u001b[0mcausalml\u001b[0m\u001b[0;34m.\u001b[0m\u001b[0mmatch\u001b[0m \u001b[0;32mimport\u001b[0m \u001b[0mNearestNeighborMatch\u001b[0m\u001b[0;34m,\u001b[0m \u001b[0mcreate_table_one\u001b[0m\u001b[0;34m,\u001b[0m \u001b[0mMatchOptimizer\u001b[0m\u001b[0;34m\u001b[0m\u001b[0;34m\u001b[0m\u001b[0m\n\u001b[1;32m     16\u001b[0m \u001b[0;32mfrom\u001b[0m \u001b[0mcausalml\u001b[0m\u001b[0;34m.\u001b[0m\u001b[0mpropensity\u001b[0m \u001b[0;32mimport\u001b[0m \u001b[0mElasticNetPropensityModel\u001b[0m\u001b[0;34m\u001b[0m\u001b[0;34m\u001b[0m\u001b[0m\n",
      "\u001b[0;31mModuleNotFoundError\u001b[0m: No module named 'causalml'",
      "",
      "\u001b[0;31m---------------------------------------------------------------------------\u001b[0;32m\nNOTE: If your import is failing due to a missing package, you can\nmanually install dependencies using either !pip or !apt.\n\nTo view examples of installing some common dependencies, click the\n\"Open Examples\" button below.\n\u001b[0;31m---------------------------------------------------------------------------\u001b[0m\n"
     ]
    }
   ],
   "source": [
    "import numpy as np\n",
    "import pandas as pd\n",
    "import matplotlib.pyplot as plt\n",
    "from sklearn.linear_model import LinearRegression\n",
    "import lightgbm as lgb\n",
    "from xgboost import XGBRegressor\n",
    "from sklearn.metrics import mean_squared_error as mse, mean_absolute_error as mae\n",
    "from sklearn.metrics import roc_auc_score, auc, roc_curve, precision_recall_curve\n",
    "from sklearn.model_selection import cross_val_predict, KFold\n",
    "from sklearn.model_selection import train_test_split\n",
    "import warnings\n",
    "import sys\n",
    "\n",
    "from causalml.inference.meta import BaseSRegressor, BaseTRegressor, BaseRRegressor, BaseXRegressor\n",
    "from causalml.match import NearestNeighborMatch, create_table_one, MatchOptimizer\n",
    "from causalml.propensity import ElasticNetPropensityModel\n",
    "from causalml.features import load_data\n",
    "from causalml.features import LabelEncoder, OneHotEncoder\n",
    "from causalml.metrics. sensitivity import Sensitivity\n",
    "\n",
    "from uberml.data.data import check_data\n",
    "import seaborn as sns\n",
    "from matplotlib import rcParams\n",
    "\n",
    "plt.style.use('fivethirtyeight')\n",
    "rcParams['figure.figsize'] = 6,8\n",
    "warnings.filterwarnings('ignore')\n",
    "\n",
    "%matplotlib inline\n",
    "%load_ext autoreload\n",
    "%autoreload 2\n",
    "\n",
    "pd.options.display.max_columns = 2000\n",
    "pd.options.display.max_rows = 2000\n",
    "pd.options.display.max_seq_items = 2000\n",
    "pd.options.display.float_format = '{:.4f}'.format"
   ]
  },
  {
   "cell_type": "markdown",
   "metadata": {
    "id": "yFzB8m1CQayk"
   },
   "source": [
    "# Analysis Setup\n",
    "\n",
    "- Audience: Riders of SF\n",
    "- Treatment Period: Jan - Mar 2018"
   ]
  },
  {
   "cell_type": "code",
   "execution_count": null,
   "metadata": {
    "id": "5a0Sldr6Qayk"
   },
   "outputs": [],
   "source": [
    "def plot_evaluation(y_true, y_prob):\n",
    "    \"\"\"Plot evaluation metircs\n",
    "\n",
    "    Args:\n",
    "        y_true (pandas.Series): label\n",
    "        y_pred (pandas.Series): prediciton results\n",
    "\n",
    "    \"\"\"\n",
    "    def plot_roc_curve(y, p):\n",
    "        fpr, tpr, _ = roc_curve(y, p)\n",
    "        roc_auc = roc_auc_score(y, p)\n",
    "        plt.plot(fpr, tpr)\n",
    "        plt.plot([0, 1], [0, 1], color='navy', linestyle='--', label='AUC = %0.1f)' % roc_auc)\n",
    "        plt.xlim([0.0, 1.0])\n",
    "        plt.ylim([0.0, 1.05])\n",
    "        plt.title('ROC Curve')\n",
    "        plt.xlabel('False Positive Rate')\n",
    "        plt.ylabel('True Positive Rate')\n",
    "\n",
    "    def plot_pr_curve(y, p):\n",
    "        precision, recall, _ = precision_recall_curve(y, p)\n",
    "\n",
    "        plt.step(recall, precision, color='b', alpha=0.2, where='post')\n",
    "        plt.fill_between(recall, precision, step='post', alpha=0.2, color='b')\n",
    "        plt.xlabel('Recall')\n",
    "        plt.ylabel('Precision')\n",
    "        plt.title('Precision-Recall Curve')\n",
    "        plt.ylim([0.0, 1.05])\n",
    "        plt.xlim([0.0, 1.0])\n",
    "\n",
    "    print('AUC: {:.1f}%'.format(roc_auc_score(y_true, y_prob) * 100))\n",
    "    precision, recall, _ = precision_recall_curve(y_true, y_prob)\n",
    "    pr_auc_score = auc(recall, precision)\n",
    "    print('PR AUC: {:.1f}%'.format(pr_auc_score * 100))\n",
    "\n",
    "    plt.figure(figsize=(16, 8))\n",
    "    plt.subplot(1, 2, 1)\n",
    "    plot_roc_curve(y_true, y_prob)\n",
    "    plt.subplot(1, 2, 2)\n",
    "    plot_pr_curve(y_true, y_prob)"
   ]
  },
  {
   "cell_type": "markdown",
   "metadata": {
    "id": "L_v3DqgsQayk"
   },
   "source": [
    "# Load data"
   ]
  },
  {
   "cell_type": "code",
   "execution_count": null,
   "metadata": {
    "ExecuteTime": {
     "end_time": "2019-06-25T22:15:41.425885Z",
     "start_time": "2019-06-25T22:15:40.627300Z"
    },
    "colab": {
     "base_uri": "https://localhost:8080/",
     "height": 350
    },
    "id": "BHZPCUp_Qayk",
    "outputId": "09b03d67-1862-4752-87dc-4956832ca974"
   },
   "outputs": [
    {
     "ename": "FileNotFoundError",
     "evalue": "ignored",
     "output_type": "error",
     "traceback": [
      "\u001b[0;31m---------------------------------------------------------------------------\u001b[0m",
      "\u001b[0;31mFileNotFoundError\u001b[0m                         Traceback (most recent call last)",
      "\u001b[0;32m<ipython-input-2-79bd17765501>\u001b[0m in \u001b[0;36m<cell line: 2>\u001b[0;34m()\u001b[0m\n\u001b[1;32m      1\u001b[0m \u001b[0;32mimport\u001b[0m \u001b[0mpandas\u001b[0m \u001b[0;32mas\u001b[0m \u001b[0mpd\u001b[0m\u001b[0;34m\u001b[0m\u001b[0;34m\u001b[0m\u001b[0m\n\u001b[0;32m----> 2\u001b[0;31m \u001b[0mdf\u001b[0m \u001b[0;34m=\u001b[0m \u001b[0mpd\u001b[0m\u001b[0;34m.\u001b[0m\u001b[0mread_csv\u001b[0m\u001b[0;34m(\u001b[0m\u001b[0;34m'r2e_sf_20180101.csv.gz'\u001b[0m\u001b[0;34m)\u001b[0m\u001b[0;34m\u001b[0m\u001b[0;34m\u001b[0m\u001b[0m\n\u001b[0m\u001b[1;32m      3\u001b[0m \u001b[0mprint\u001b[0m\u001b[0;34m(\u001b[0m\u001b[0mdf\u001b[0m\u001b[0;34m.\u001b[0m\u001b[0mshape\u001b[0m\u001b[0;34m)\u001b[0m\u001b[0;34m\u001b[0m\u001b[0;34m\u001b[0m\u001b[0m\n",
      "\u001b[0;32m/usr/local/lib/python3.10/dist-packages/pandas/util/_decorators.py\u001b[0m in \u001b[0;36mwrapper\u001b[0;34m(*args, **kwargs)\u001b[0m\n\u001b[1;32m    209\u001b[0m                 \u001b[0;32melse\u001b[0m\u001b[0;34m:\u001b[0m\u001b[0;34m\u001b[0m\u001b[0;34m\u001b[0m\u001b[0m\n\u001b[1;32m    210\u001b[0m                     \u001b[0mkwargs\u001b[0m\u001b[0;34m[\u001b[0m\u001b[0mnew_arg_name\u001b[0m\u001b[0;34m]\u001b[0m \u001b[0;34m=\u001b[0m \u001b[0mnew_arg_value\u001b[0m\u001b[0;34m\u001b[0m\u001b[0;34m\u001b[0m\u001b[0m\n\u001b[0;32m--> 211\u001b[0;31m             \u001b[0;32mreturn\u001b[0m \u001b[0mfunc\u001b[0m\u001b[0;34m(\u001b[0m\u001b[0;34m*\u001b[0m\u001b[0margs\u001b[0m\u001b[0;34m,\u001b[0m \u001b[0;34m**\u001b[0m\u001b[0mkwargs\u001b[0m\u001b[0;34m)\u001b[0m\u001b[0;34m\u001b[0m\u001b[0;34m\u001b[0m\u001b[0m\n\u001b[0m\u001b[1;32m    212\u001b[0m \u001b[0;34m\u001b[0m\u001b[0m\n\u001b[1;32m    213\u001b[0m         \u001b[0;32mreturn\u001b[0m \u001b[0mcast\u001b[0m\u001b[0;34m(\u001b[0m\u001b[0mF\u001b[0m\u001b[0;34m,\u001b[0m \u001b[0mwrapper\u001b[0m\u001b[0;34m)\u001b[0m\u001b[0;34m\u001b[0m\u001b[0;34m\u001b[0m\u001b[0m\n",
      "\u001b[0;32m/usr/local/lib/python3.10/dist-packages/pandas/util/_decorators.py\u001b[0m in \u001b[0;36mwrapper\u001b[0;34m(*args, **kwargs)\u001b[0m\n\u001b[1;32m    329\u001b[0m                     \u001b[0mstacklevel\u001b[0m\u001b[0;34m=\u001b[0m\u001b[0mfind_stack_level\u001b[0m\u001b[0;34m(\u001b[0m\u001b[0;34m)\u001b[0m\u001b[0;34m,\u001b[0m\u001b[0;34m\u001b[0m\u001b[0;34m\u001b[0m\u001b[0m\n\u001b[1;32m    330\u001b[0m                 )\n\u001b[0;32m--> 331\u001b[0;31m             \u001b[0;32mreturn\u001b[0m \u001b[0mfunc\u001b[0m\u001b[0;34m(\u001b[0m\u001b[0;34m*\u001b[0m\u001b[0margs\u001b[0m\u001b[0;34m,\u001b[0m \u001b[0;34m**\u001b[0m\u001b[0mkwargs\u001b[0m\u001b[0;34m)\u001b[0m\u001b[0;34m\u001b[0m\u001b[0;34m\u001b[0m\u001b[0m\n\u001b[0m\u001b[1;32m    332\u001b[0m \u001b[0;34m\u001b[0m\u001b[0m\n\u001b[1;32m    333\u001b[0m         \u001b[0;31m# error: \"Callable[[VarArg(Any), KwArg(Any)], Any]\" has no\u001b[0m\u001b[0;34m\u001b[0m\u001b[0;34m\u001b[0m\u001b[0m\n",
      "\u001b[0;32m/usr/local/lib/python3.10/dist-packages/pandas/io/parsers/readers.py\u001b[0m in \u001b[0;36mread_csv\u001b[0;34m(filepath_or_buffer, sep, delimiter, header, names, index_col, usecols, squeeze, prefix, mangle_dupe_cols, dtype, engine, converters, true_values, false_values, skipinitialspace, skiprows, skipfooter, nrows, na_values, keep_default_na, na_filter, verbose, skip_blank_lines, parse_dates, infer_datetime_format, keep_date_col, date_parser, dayfirst, cache_dates, iterator, chunksize, compression, thousands, decimal, lineterminator, quotechar, quoting, doublequote, escapechar, comment, encoding, encoding_errors, dialect, error_bad_lines, warn_bad_lines, on_bad_lines, delim_whitespace, low_memory, memory_map, float_precision, storage_options)\u001b[0m\n\u001b[1;32m    948\u001b[0m     \u001b[0mkwds\u001b[0m\u001b[0;34m.\u001b[0m\u001b[0mupdate\u001b[0m\u001b[0;34m(\u001b[0m\u001b[0mkwds_defaults\u001b[0m\u001b[0;34m)\u001b[0m\u001b[0;34m\u001b[0m\u001b[0;34m\u001b[0m\u001b[0m\n\u001b[1;32m    949\u001b[0m \u001b[0;34m\u001b[0m\u001b[0m\n\u001b[0;32m--> 950\u001b[0;31m     \u001b[0;32mreturn\u001b[0m \u001b[0m_read\u001b[0m\u001b[0;34m(\u001b[0m\u001b[0mfilepath_or_buffer\u001b[0m\u001b[0;34m,\u001b[0m \u001b[0mkwds\u001b[0m\u001b[0;34m)\u001b[0m\u001b[0;34m\u001b[0m\u001b[0;34m\u001b[0m\u001b[0m\n\u001b[0m\u001b[1;32m    951\u001b[0m \u001b[0;34m\u001b[0m\u001b[0m\n\u001b[1;32m    952\u001b[0m \u001b[0;34m\u001b[0m\u001b[0m\n",
      "\u001b[0;32m/usr/local/lib/python3.10/dist-packages/pandas/io/parsers/readers.py\u001b[0m in \u001b[0;36m_read\u001b[0;34m(filepath_or_buffer, kwds)\u001b[0m\n\u001b[1;32m    603\u001b[0m \u001b[0;34m\u001b[0m\u001b[0m\n\u001b[1;32m    604\u001b[0m     \u001b[0;31m# Create the parser.\u001b[0m\u001b[0;34m\u001b[0m\u001b[0;34m\u001b[0m\u001b[0m\n\u001b[0;32m--> 605\u001b[0;31m     \u001b[0mparser\u001b[0m \u001b[0;34m=\u001b[0m \u001b[0mTextFileReader\u001b[0m\u001b[0;34m(\u001b[0m\u001b[0mfilepath_or_buffer\u001b[0m\u001b[0;34m,\u001b[0m \u001b[0;34m**\u001b[0m\u001b[0mkwds\u001b[0m\u001b[0;34m)\u001b[0m\u001b[0;34m\u001b[0m\u001b[0;34m\u001b[0m\u001b[0m\n\u001b[0m\u001b[1;32m    606\u001b[0m \u001b[0;34m\u001b[0m\u001b[0m\n\u001b[1;32m    607\u001b[0m     \u001b[0;32mif\u001b[0m \u001b[0mchunksize\u001b[0m \u001b[0;32mor\u001b[0m \u001b[0miterator\u001b[0m\u001b[0;34m:\u001b[0m\u001b[0;34m\u001b[0m\u001b[0;34m\u001b[0m\u001b[0m\n",
      "\u001b[0;32m/usr/local/lib/python3.10/dist-packages/pandas/io/parsers/readers.py\u001b[0m in \u001b[0;36m__init__\u001b[0;34m(self, f, engine, **kwds)\u001b[0m\n\u001b[1;32m   1440\u001b[0m \u001b[0;34m\u001b[0m\u001b[0m\n\u001b[1;32m   1441\u001b[0m         \u001b[0mself\u001b[0m\u001b[0;34m.\u001b[0m\u001b[0mhandles\u001b[0m\u001b[0;34m:\u001b[0m \u001b[0mIOHandles\u001b[0m \u001b[0;34m|\u001b[0m \u001b[0;32mNone\u001b[0m \u001b[0;34m=\u001b[0m \u001b[0;32mNone\u001b[0m\u001b[0;34m\u001b[0m\u001b[0;34m\u001b[0m\u001b[0m\n\u001b[0;32m-> 1442\u001b[0;31m         \u001b[0mself\u001b[0m\u001b[0;34m.\u001b[0m\u001b[0m_engine\u001b[0m \u001b[0;34m=\u001b[0m \u001b[0mself\u001b[0m\u001b[0;34m.\u001b[0m\u001b[0m_make_engine\u001b[0m\u001b[0;34m(\u001b[0m\u001b[0mf\u001b[0m\u001b[0;34m,\u001b[0m \u001b[0mself\u001b[0m\u001b[0;34m.\u001b[0m\u001b[0mengine\u001b[0m\u001b[0;34m)\u001b[0m\u001b[0;34m\u001b[0m\u001b[0;34m\u001b[0m\u001b[0m\n\u001b[0m\u001b[1;32m   1443\u001b[0m \u001b[0;34m\u001b[0m\u001b[0m\n\u001b[1;32m   1444\u001b[0m     \u001b[0;32mdef\u001b[0m \u001b[0mclose\u001b[0m\u001b[0;34m(\u001b[0m\u001b[0mself\u001b[0m\u001b[0;34m)\u001b[0m \u001b[0;34m->\u001b[0m \u001b[0;32mNone\u001b[0m\u001b[0;34m:\u001b[0m\u001b[0;34m\u001b[0m\u001b[0;34m\u001b[0m\u001b[0m\n",
      "\u001b[0;32m/usr/local/lib/python3.10/dist-packages/pandas/io/parsers/readers.py\u001b[0m in \u001b[0;36m_make_engine\u001b[0;34m(self, f, engine)\u001b[0m\n\u001b[1;32m   1733\u001b[0m                 \u001b[0;32mif\u001b[0m \u001b[0;34m\"b\"\u001b[0m \u001b[0;32mnot\u001b[0m \u001b[0;32min\u001b[0m \u001b[0mmode\u001b[0m\u001b[0;34m:\u001b[0m\u001b[0;34m\u001b[0m\u001b[0;34m\u001b[0m\u001b[0m\n\u001b[1;32m   1734\u001b[0m                     \u001b[0mmode\u001b[0m \u001b[0;34m+=\u001b[0m \u001b[0;34m\"b\"\u001b[0m\u001b[0;34m\u001b[0m\u001b[0;34m\u001b[0m\u001b[0m\n\u001b[0;32m-> 1735\u001b[0;31m             self.handles = get_handle(\n\u001b[0m\u001b[1;32m   1736\u001b[0m                 \u001b[0mf\u001b[0m\u001b[0;34m,\u001b[0m\u001b[0;34m\u001b[0m\u001b[0;34m\u001b[0m\u001b[0m\n\u001b[1;32m   1737\u001b[0m                 \u001b[0mmode\u001b[0m\u001b[0;34m,\u001b[0m\u001b[0;34m\u001b[0m\u001b[0;34m\u001b[0m\u001b[0m\n",
      "\u001b[0;32m/usr/local/lib/python3.10/dist-packages/pandas/io/common.py\u001b[0m in \u001b[0;36mget_handle\u001b[0;34m(path_or_buf, mode, encoding, compression, memory_map, is_text, errors, storage_options)\u001b[0m\n\u001b[1;32m    748\u001b[0m                 \u001b[0;31m# error: Incompatible types in assignment (expression has type\u001b[0m\u001b[0;34m\u001b[0m\u001b[0;34m\u001b[0m\u001b[0m\n\u001b[1;32m    749\u001b[0m                 \u001b[0;31m# \"GzipFile\", variable has type \"Union[str, BaseBuffer]\")\u001b[0m\u001b[0;34m\u001b[0m\u001b[0;34m\u001b[0m\u001b[0m\n\u001b[0;32m--> 750\u001b[0;31m                 handle = gzip.GzipFile(  # type: ignore[assignment]\n\u001b[0m\u001b[1;32m    751\u001b[0m                     \u001b[0mfilename\u001b[0m\u001b[0;34m=\u001b[0m\u001b[0mhandle\u001b[0m\u001b[0;34m,\u001b[0m\u001b[0;34m\u001b[0m\u001b[0;34m\u001b[0m\u001b[0m\n\u001b[1;32m    752\u001b[0m                     \u001b[0mmode\u001b[0m\u001b[0;34m=\u001b[0m\u001b[0mioargs\u001b[0m\u001b[0;34m.\u001b[0m\u001b[0mmode\u001b[0m\u001b[0;34m,\u001b[0m\u001b[0;34m\u001b[0m\u001b[0;34m\u001b[0m\u001b[0m\n",
      "\u001b[0;32m/usr/lib/python3.10/gzip.py\u001b[0m in \u001b[0;36m__init__\u001b[0;34m(self, filename, mode, compresslevel, fileobj, mtime)\u001b[0m\n\u001b[1;32m    172\u001b[0m             \u001b[0mmode\u001b[0m \u001b[0;34m+=\u001b[0m \u001b[0;34m'b'\u001b[0m\u001b[0;34m\u001b[0m\u001b[0;34m\u001b[0m\u001b[0m\n\u001b[1;32m    173\u001b[0m         \u001b[0;32mif\u001b[0m \u001b[0mfileobj\u001b[0m \u001b[0;32mis\u001b[0m \u001b[0;32mNone\u001b[0m\u001b[0;34m:\u001b[0m\u001b[0;34m\u001b[0m\u001b[0;34m\u001b[0m\u001b[0m\n\u001b[0;32m--> 174\u001b[0;31m             \u001b[0mfileobj\u001b[0m \u001b[0;34m=\u001b[0m \u001b[0mself\u001b[0m\u001b[0;34m.\u001b[0m\u001b[0mmyfileobj\u001b[0m \u001b[0;34m=\u001b[0m \u001b[0mbuiltins\u001b[0m\u001b[0;34m.\u001b[0m\u001b[0mopen\u001b[0m\u001b[0;34m(\u001b[0m\u001b[0mfilename\u001b[0m\u001b[0;34m,\u001b[0m \u001b[0mmode\u001b[0m \u001b[0;32mor\u001b[0m \u001b[0;34m'rb'\u001b[0m\u001b[0;34m)\u001b[0m\u001b[0;34m\u001b[0m\u001b[0;34m\u001b[0m\u001b[0m\n\u001b[0m\u001b[1;32m    175\u001b[0m         \u001b[0;32mif\u001b[0m \u001b[0mfilename\u001b[0m \u001b[0;32mis\u001b[0m \u001b[0;32mNone\u001b[0m\u001b[0;34m:\u001b[0m\u001b[0;34m\u001b[0m\u001b[0;34m\u001b[0m\u001b[0m\n\u001b[1;32m    176\u001b[0m             \u001b[0mfilename\u001b[0m \u001b[0;34m=\u001b[0m \u001b[0mgetattr\u001b[0m\u001b[0;34m(\u001b[0m\u001b[0mfileobj\u001b[0m\u001b[0;34m,\u001b[0m \u001b[0;34m'name'\u001b[0m\u001b[0;34m,\u001b[0m \u001b[0;34m''\u001b[0m\u001b[0;34m)\u001b[0m\u001b[0;34m\u001b[0m\u001b[0;34m\u001b[0m\u001b[0m\n",
      "\u001b[0;31mFileNotFoundError\u001b[0m: [Errno 2] No such file or directory: 'r2e_sf_20180101.csv.gz'"
     ]
    }
   ],
   "source": [
    "import pandas as pd\n",
    "df = pd.read_csv('r2e_sf_20180101.csv.gz')\n",
    "print(df.shape)"
   ]
  },
  {
   "cell_type": "code",
   "execution_count": null,
   "metadata": {
    "id": "U5N4Q0AR7eHo"
   },
   "outputs": [],
   "source": []
  },
  {
   "cell_type": "code",
   "execution_count": null,
   "metadata": {
    "ExecuteTime": {
     "end_time": "2019-06-25T22:15:41.463939Z",
     "start_time": "2019-06-25T22:15:41.428083Z"
    },
    "id": "ddB9cBBwQayl",
    "outputId": "695efa03-301a-4f97-f420-5ae4c4de0a04"
   },
   "outputs": [
    {
     "data": {
      "text/plain": [
       "False    96168\n",
       "True      3832\n",
       "Name: target, dtype: int64"
      ]
     },
     "execution_count": 11,
     "metadata": {},
     "output_type": "execute_result"
    }
   ],
   "source": [
    "df['target'].value_counts()"
   ]
  },
  {
   "cell_type": "code",
   "execution_count": null,
   "metadata": {
    "id": "30wMQyGVRw8u"
   },
   "outputs": [],
   "source": []
  },
  {
   "cell_type": "code",
   "execution_count": null,
   "metadata": {
    "id": "IdvrGRqjvXNd"
   },
   "outputs": [],
   "source": []
  },
  {
   "cell_type": "code",
   "execution_count": null,
   "metadata": {
    "id": "VnqYGMieQayl",
    "jupyter": {
     "outputs_hidden": true
    },
    "outputId": "2403ff25-83e0-4697-a2c2-2564ea898413"
   },
   "outputs": [
    {
     "data": {
      "text/html": [
       "<div>\n",
       "<style scoped>\n",
       "    .dataframe tbody tr th:only-of-type {\n",
       "        vertical-align: middle;\n",
       "    }\n",
       "\n",
       "    .dataframe tbody tr th {\n",
       "        vertical-align: top;\n",
       "    }\n",
       "\n",
       "    .dataframe thead th {\n",
       "        text-align: right;\n",
       "    }\n",
       "</style>\n",
       "<table border=\"1\" class=\"dataframe\">\n",
       "  <thead>\n",
       "    <tr style=\"text-align: right;\">\n",
       "      <th></th>\n",
       "      <th>null percentage</th>\n",
       "      <th>dtype</th>\n",
       "      <th>unique values</th>\n",
       "      <th>min</th>\n",
       "      <th>mean</th>\n",
       "      <th>max</th>\n",
       "    </tr>\n",
       "  </thead>\n",
       "  <tbody>\n",
       "    <tr>\n",
       "      <th>post_sum_gross_bookings</th>\n",
       "      <td>0.0000</td>\n",
       "      <td>float64</td>\n",
       "      <td>32373</td>\n",
       "      <td>0.0000</td>\n",
       "      <td>134.4562</td>\n",
       "      <td>7027.4500</td>\n",
       "    </tr>\n",
       "    <tr>\n",
       "      <th>post_sum_gross_bookings_rides</th>\n",
       "      <td>0.0000</td>\n",
       "      <td>float64</td>\n",
       "      <td>32109</td>\n",
       "      <td>0.0000</td>\n",
       "      <td>132.0292</td>\n",
       "      <td>7027.4500</td>\n",
       "    </tr>\n",
       "    <tr>\n",
       "      <th>post_trips_count</th>\n",
       "      <td>0.0000</td>\n",
       "      <td>int64</td>\n",
       "      <td>242</td>\n",
       "      <td>0</td>\n",
       "      <td>9.1790</td>\n",
       "      <td>1309</td>\n",
       "    </tr>\n",
       "    <tr>\n",
       "      <th>post_trips_count_rides</th>\n",
       "      <td>0.0000</td>\n",
       "      <td>int64</td>\n",
       "      <td>237</td>\n",
       "      <td>0</td>\n",
       "      <td>9.0994</td>\n",
       "      <td>1309</td>\n",
       "    </tr>\n",
       "    <tr>\n",
       "      <th>user_uuid</th>\n",
       "      <td>0.0000</td>\n",
       "      <td>object</td>\n",
       "      <td>100000</td>\n",
       "      <td>N/A</td>\n",
       "      <td>N/A</td>\n",
       "      <td>N/A</td>\n",
       "    </tr>\n",
       "    <tr>\n",
       "      <th>age_35_to_44</th>\n",
       "      <td>0.0000</td>\n",
       "      <td>float64</td>\n",
       "      <td>210</td>\n",
       "      <td>0.0000</td>\n",
       "      <td>20.4326</td>\n",
       "      <td>42.3000</td>\n",
       "    </tr>\n",
       "    <tr>\n",
       "      <th>age_45_to_54</th>\n",
       "      <td>0.0000</td>\n",
       "      <td>float64</td>\n",
       "      <td>199</td>\n",
       "      <td>0.0000</td>\n",
       "      <td>21.2861</td>\n",
       "      <td>36.6000</td>\n",
       "    </tr>\n",
       "    <tr>\n",
       "      <th>age_55_to_64</th>\n",
       "      <td>0.0000</td>\n",
       "      <td>float64</td>\n",
       "      <td>186</td>\n",
       "      <td>0.0000</td>\n",
       "      <td>18.0730</td>\n",
       "      <td>39.1000</td>\n",
       "    </tr>\n",
       "    <tr>\n",
       "      <th>age_65_to_74</th>\n",
       "      <td>0.0000</td>\n",
       "      <td>float64</td>\n",
       "      <td>164</td>\n",
       "      <td>0.0000</td>\n",
       "      <td>10.5664</td>\n",
       "      <td>26.3000</td>\n",
       "    </tr>\n",
       "    <tr>\n",
       "      <th>age_75_to_84</th>\n",
       "      <td>0.0000</td>\n",
       "      <td>float64</td>\n",
       "      <td>132</td>\n",
       "      <td>0.0000</td>\n",
       "      <td>6.3534</td>\n",
       "      <td>25.6000</td>\n",
       "    </tr>\n",
       "    <tr>\n",
       "      <th>age_85_over</th>\n",
       "      <td>0.0000</td>\n",
       "      <td>float64</td>\n",
       "      <td>89</td>\n",
       "      <td>0.0000</td>\n",
       "      <td>3.1588</td>\n",
       "      <td>19.8000</td>\n",
       "    </tr>\n",
       "    <tr>\n",
       "      <th>age_under_35</th>\n",
       "      <td>0.0000</td>\n",
       "      <td>float64</td>\n",
       "      <td>312</td>\n",
       "      <td>0.0000</td>\n",
       "      <td>19.8431</td>\n",
       "      <td>83.3000</td>\n",
       "    </tr>\n",
       "    <tr>\n",
       "      <th>billing_zip</th>\n",
       "      <td>0.0000</td>\n",
       "      <td>int64</td>\n",
       "      <td>728</td>\n",
       "      <td>2138</td>\n",
       "      <td>93569.0528</td>\n",
       "      <td>98607</td>\n",
       "    </tr>\n",
       "    <tr>\n",
       "      <th>channel</th>\n",
       "      <td>0.0000</td>\n",
       "      <td>object</td>\n",
       "      <td>8</td>\n",
       "      <td>N/A</td>\n",
       "      <td>N/A</td>\n",
       "      <td>N/A</td>\n",
       "    </tr>\n",
       "    <tr>\n",
       "      <th>comparison_shopper_prob</th>\n",
       "      <td>0.0000</td>\n",
       "      <td>float64</td>\n",
       "      <td>57611</td>\n",
       "      <td>0.0000</td>\n",
       "      <td>0.2685</td>\n",
       "      <td>0.9850</td>\n",
       "    </tr>\n",
       "    <tr>\n",
       "      <th>days_since_ft</th>\n",
       "      <td>0.0000</td>\n",
       "      <td>int64</td>\n",
       "      <td>2439</td>\n",
       "      <td>-66</td>\n",
       "      <td>686.6369</td>\n",
       "      <td>2752</td>\n",
       "    </tr>\n",
       "    <tr>\n",
       "      <th>education_bachelor_degree_or_higher</th>\n",
       "      <td>0.0000</td>\n",
       "      <td>float64</td>\n",
       "      <td>437</td>\n",
       "      <td>0.0000</td>\n",
       "      <td>50.1589</td>\n",
       "      <td>94.1000</td>\n",
       "    </tr>\n",
       "    <tr>\n",
       "      <th>education_high_school_graduate</th>\n",
       "      <td>0.0000</td>\n",
       "      <td>float64</td>\n",
       "      <td>236</td>\n",
       "      <td>0.0000</td>\n",
       "      <td>13.4817</td>\n",
       "      <td>30.9000</td>\n",
       "    </tr>\n",
       "    <tr>\n",
       "      <th>education_less_than_high_school</th>\n",
       "      <td>0.0000</td>\n",
       "      <td>float64</td>\n",
       "      <td>221</td>\n",
       "      <td>0.0000</td>\n",
       "      <td>9.2175</td>\n",
       "      <td>57.1000</td>\n",
       "    </tr>\n",
       "    <tr>\n",
       "      <th>education_some_college_or_aa</th>\n",
       "      <td>0.0000</td>\n",
       "      <td>float64</td>\n",
       "      <td>308</td>\n",
       "      <td>0.0000</td>\n",
       "      <td>26.8538</td>\n",
       "      <td>78.8000</td>\n",
       "    </tr>\n",
       "    <tr>\n",
       "      <th>first_trip_city_id</th>\n",
       "      <td>0.0000</td>\n",
       "      <td>int64</td>\n",
       "      <td>368</td>\n",
       "      <td>1</td>\n",
       "      <td>15.8654</td>\n",
       "      <td>1587</td>\n",
       "    </tr>\n",
       "    <tr>\n",
       "      <th>is_fake_current_email</th>\n",
       "      <td>0.0000</td>\n",
       "      <td>int64</td>\n",
       "      <td>2</td>\n",
       "      <td>0</td>\n",
       "      <td>0.0008</td>\n",
       "      <td>1</td>\n",
       "    </tr>\n",
       "    <tr>\n",
       "      <th>is_referral</th>\n",
       "      <td>0.0000</td>\n",
       "      <td>int64</td>\n",
       "      <td>2</td>\n",
       "      <td>0</td>\n",
       "      <td>0.1744</td>\n",
       "      <td>1</td>\n",
       "    </tr>\n",
       "    <tr>\n",
       "      <th>is_uber_current_email</th>\n",
       "      <td>0.0000</td>\n",
       "      <td>int64</td>\n",
       "      <td>2</td>\n",
       "      <td>0</td>\n",
       "      <td>0.0007</td>\n",
       "      <td>1</td>\n",
       "    </tr>\n",
       "    <tr>\n",
       "      <th>median_income</th>\n",
       "      <td>0.0000</td>\n",
       "      <td>int64</td>\n",
       "      <td>713</td>\n",
       "      <td>0</td>\n",
       "      <td>85131.1665</td>\n",
       "      <td>223893</td>\n",
       "    </tr>\n",
       "    <tr>\n",
       "      <th>pct_commute_trips</th>\n",
       "      <td>0.0000</td>\n",
       "      <td>float64</td>\n",
       "      <td>2163</td>\n",
       "      <td>0.0000</td>\n",
       "      <td>0.2552</td>\n",
       "      <td>1.0000</td>\n",
       "    </tr>\n",
       "    <tr>\n",
       "      <th>pct_weekend_trips</th>\n",
       "      <td>0.0000</td>\n",
       "      <td>float64</td>\n",
       "      <td>1776</td>\n",
       "      <td>0.0000</td>\n",
       "      <td>0.3684</td>\n",
       "      <td>1.0000</td>\n",
       "    </tr>\n",
       "    <tr>\n",
       "      <th>population</th>\n",
       "      <td>0.0000</td>\n",
       "      <td>int64</td>\n",
       "      <td>712</td>\n",
       "      <td>0</td>\n",
       "      <td>38817.3114</td>\n",
       "      <td>105940</td>\n",
       "    </tr>\n",
       "    <tr>\n",
       "      <th>recency_days</th>\n",
       "      <td>0.0000</td>\n",
       "      <td>int64</td>\n",
       "      <td>93</td>\n",
       "      <td>1</td>\n",
       "      <td>28.6867</td>\n",
       "      <td>93</td>\n",
       "    </tr>\n",
       "    <tr>\n",
       "      <th>signup_device</th>\n",
       "      <td>0.0000</td>\n",
       "      <td>object</td>\n",
       "      <td>6</td>\n",
       "      <td>N/A</td>\n",
       "      <td>N/A</td>\n",
       "      <td>N/A</td>\n",
       "    </tr>\n",
       "    <tr>\n",
       "      <th>signup_form</th>\n",
       "      <td>0.0000</td>\n",
       "      <td>object</td>\n",
       "      <td>23</td>\n",
       "      <td>N/A</td>\n",
       "      <td>N/A</td>\n",
       "      <td>N/A</td>\n",
       "    </tr>\n",
       "    <tr>\n",
       "      <th>sum_gross_bookings</th>\n",
       "      <td>0.0000</td>\n",
       "      <td>float64</td>\n",
       "      <td>34245</td>\n",
       "      <td>0.0000</td>\n",
       "      <td>152.1931</td>\n",
       "      <td>9656.7400</td>\n",
       "    </tr>\n",
       "    <tr>\n",
       "      <th>sum_gross_bookings_bz</th>\n",
       "      <td>0.0000</td>\n",
       "      <td>float64</td>\n",
       "      <td>4596</td>\n",
       "      <td>0.0000</td>\n",
       "      <td>9.0034</td>\n",
       "      <td>9656.7400</td>\n",
       "    </tr>\n",
       "    <tr>\n",
       "      <th>sum_incentives</th>\n",
       "      <td>0.0000</td>\n",
       "      <td>float64</td>\n",
       "      <td>7509</td>\n",
       "      <td>-92.4800</td>\n",
       "      <td>-0.2819</td>\n",
       "      <td>0.0000</td>\n",
       "    </tr>\n",
       "    <tr>\n",
       "      <th>surge_multiplier_avg</th>\n",
       "      <td>0.0000</td>\n",
       "      <td>float64</td>\n",
       "      <td>3973</td>\n",
       "      <td>0.5000</td>\n",
       "      <td>1.0686</td>\n",
       "      <td>5.1000</td>\n",
       "    </tr>\n",
       "    <tr>\n",
       "      <th>trip_most_freq_city_id</th>\n",
       "      <td>0.0000</td>\n",
       "      <td>int64</td>\n",
       "      <td>1</td>\n",
       "      <td>1</td>\n",
       "      <td>1.0000</td>\n",
       "      <td>1</td>\n",
       "    </tr>\n",
       "    <tr>\n",
       "      <th>trip_most_freq_prdct_name</th>\n",
       "      <td>0.0000</td>\n",
       "      <td>object</td>\n",
       "      <td>10</td>\n",
       "      <td>N/A</td>\n",
       "      <td>N/A</td>\n",
       "      <td>N/A</td>\n",
       "    </tr>\n",
       "    <tr>\n",
       "      <th>trips_within_time_period</th>\n",
       "      <td>0.0000</td>\n",
       "      <td>int64</td>\n",
       "      <td>231</td>\n",
       "      <td>1</td>\n",
       "      <td>10.2038</td>\n",
       "      <td>685</td>\n",
       "    </tr>\n",
       "    <tr>\n",
       "      <th>unemployment_rate</th>\n",
       "      <td>0.0000</td>\n",
       "      <td>float64</td>\n",
       "      <td>152</td>\n",
       "      <td>0.0000</td>\n",
       "      <td>9.1050</td>\n",
       "      <td>29.5000</td>\n",
       "    </tr>\n",
       "    <tr>\n",
       "      <th>target</th>\n",
       "      <td>0.0000</td>\n",
       "      <td>bool</td>\n",
       "      <td>2</td>\n",
       "      <td>False</td>\n",
       "      <td>0.0383</td>\n",
       "      <td>True</td>\n",
       "    </tr>\n",
       "    <tr>\n",
       "      <th>cnt</th>\n",
       "      <td>0.0000</td>\n",
       "      <td>int64</td>\n",
       "      <td>422</td>\n",
       "      <td>101</td>\n",
       "      <td>4133.7204</td>\n",
       "      <td>11637</td>\n",
       "    </tr>\n",
       "    <tr>\n",
       "      <th>num_target</th>\n",
       "      <td>0.0000</td>\n",
       "      <td>int64</td>\n",
       "      <td>166</td>\n",
       "      <td>1</td>\n",
       "      <td>176.0065</td>\n",
       "      <td>773</td>\n",
       "    </tr>\n",
       "    <tr>\n",
       "      <th>pihat</th>\n",
       "      <td>0.0000</td>\n",
       "      <td>float64</td>\n",
       "      <td>100000</td>\n",
       "      <td>0.0070</td>\n",
       "      <td>0.0385</td>\n",
       "      <td>0.5574</td>\n",
       "    </tr>\n",
       "  </tbody>\n",
       "</table>\n",
       "</div>"
      ],
      "text/plain": [
       "                                     null percentage    dtype  unique values  \\\n",
       "post_sum_gross_bookings                       0.0000  float64          32373   \n",
       "post_sum_gross_bookings_rides                 0.0000  float64          32109   \n",
       "post_trips_count                              0.0000    int64            242   \n",
       "post_trips_count_rides                        0.0000    int64            237   \n",
       "user_uuid                                     0.0000   object         100000   \n",
       "age_35_to_44                                  0.0000  float64            210   \n",
       "age_45_to_54                                  0.0000  float64            199   \n",
       "age_55_to_64                                  0.0000  float64            186   \n",
       "age_65_to_74                                  0.0000  float64            164   \n",
       "age_75_to_84                                  0.0000  float64            132   \n",
       "age_85_over                                   0.0000  float64             89   \n",
       "age_under_35                                  0.0000  float64            312   \n",
       "billing_zip                                   0.0000    int64            728   \n",
       "channel                                       0.0000   object              8   \n",
       "comparison_shopper_prob                       0.0000  float64          57611   \n",
       "days_since_ft                                 0.0000    int64           2439   \n",
       "education_bachelor_degree_or_higher           0.0000  float64            437   \n",
       "education_high_school_graduate                0.0000  float64            236   \n",
       "education_less_than_high_school               0.0000  float64            221   \n",
       "education_some_college_or_aa                  0.0000  float64            308   \n",
       "first_trip_city_id                            0.0000    int64            368   \n",
       "is_fake_current_email                         0.0000    int64              2   \n",
       "is_referral                                   0.0000    int64              2   \n",
       "is_uber_current_email                         0.0000    int64              2   \n",
       "median_income                                 0.0000    int64            713   \n",
       "pct_commute_trips                             0.0000  float64           2163   \n",
       "pct_weekend_trips                             0.0000  float64           1776   \n",
       "population                                    0.0000    int64            712   \n",
       "recency_days                                  0.0000    int64             93   \n",
       "signup_device                                 0.0000   object              6   \n",
       "signup_form                                   0.0000   object             23   \n",
       "sum_gross_bookings                            0.0000  float64          34245   \n",
       "sum_gross_bookings_bz                         0.0000  float64           4596   \n",
       "sum_incentives                                0.0000  float64           7509   \n",
       "surge_multiplier_avg                          0.0000  float64           3973   \n",
       "trip_most_freq_city_id                        0.0000    int64              1   \n",
       "trip_most_freq_prdct_name                     0.0000   object             10   \n",
       "trips_within_time_period                      0.0000    int64            231   \n",
       "unemployment_rate                             0.0000  float64            152   \n",
       "target                                        0.0000     bool              2   \n",
       "cnt                                           0.0000    int64            422   \n",
       "num_target                                    0.0000    int64            166   \n",
       "pihat                                         0.0000  float64         100000   \n",
       "\n",
       "                                         min       mean       max  \n",
       "post_sum_gross_bookings               0.0000   134.4562 7027.4500  \n",
       "post_sum_gross_bookings_rides         0.0000   132.0292 7027.4500  \n",
       "post_trips_count                           0     9.1790      1309  \n",
       "post_trips_count_rides                     0     9.0994      1309  \n",
       "user_uuid                                N/A        N/A       N/A  \n",
       "age_35_to_44                          0.0000    20.4326   42.3000  \n",
       "age_45_to_54                          0.0000    21.2861   36.6000  \n",
       "age_55_to_64                          0.0000    18.0730   39.1000  \n",
       "age_65_to_74                          0.0000    10.5664   26.3000  \n",
       "age_75_to_84                          0.0000     6.3534   25.6000  \n",
       "age_85_over                           0.0000     3.1588   19.8000  \n",
       "age_under_35                          0.0000    19.8431   83.3000  \n",
       "billing_zip                             2138 93569.0528     98607  \n",
       "channel                                  N/A        N/A       N/A  \n",
       "comparison_shopper_prob               0.0000     0.2685    0.9850  \n",
       "days_since_ft                            -66   686.6369      2752  \n",
       "education_bachelor_degree_or_higher   0.0000    50.1589   94.1000  \n",
       "education_high_school_graduate        0.0000    13.4817   30.9000  \n",
       "education_less_than_high_school       0.0000     9.2175   57.1000  \n",
       "education_some_college_or_aa          0.0000    26.8538   78.8000  \n",
       "first_trip_city_id                         1    15.8654      1587  \n",
       "is_fake_current_email                      0     0.0008         1  \n",
       "is_referral                                0     0.1744         1  \n",
       "is_uber_current_email                      0     0.0007         1  \n",
       "median_income                              0 85131.1665    223893  \n",
       "pct_commute_trips                     0.0000     0.2552    1.0000  \n",
       "pct_weekend_trips                     0.0000     0.3684    1.0000  \n",
       "population                                 0 38817.3114    105940  \n",
       "recency_days                               1    28.6867        93  \n",
       "signup_device                            N/A        N/A       N/A  \n",
       "signup_form                              N/A        N/A       N/A  \n",
       "sum_gross_bookings                    0.0000   152.1931 9656.7400  \n",
       "sum_gross_bookings_bz                 0.0000     9.0034 9656.7400  \n",
       "sum_incentives                      -92.4800    -0.2819    0.0000  \n",
       "surge_multiplier_avg                  0.5000     1.0686    5.1000  \n",
       "trip_most_freq_city_id                     1     1.0000         1  \n",
       "trip_most_freq_prdct_name                N/A        N/A       N/A  \n",
       "trips_within_time_period                   1    10.2038       685  \n",
       "unemployment_rate                     0.0000     9.1050   29.5000  \n",
       "target                                 False     0.0383      True  \n",
       "cnt                                      101  4133.7204     11637  \n",
       "num_target                                 1   176.0065       773  \n",
       "pihat                                 0.0070     0.0385    0.5574  "
      ]
     },
     "execution_count": 12,
     "metadata": {},
     "output_type": "execute_result"
    }
   ],
   "source": [
    "df_info = check_data(df)\n",
    "df_info"
   ]
  },
  {
   "cell_type": "markdown",
   "metadata": {
    "id": "pvPEDSiTQayl"
   },
   "source": [
    "# Define Features"
   ]
  },
  {
   "cell_type": "code",
   "execution_count": null,
   "metadata": {
    "id": "tHAk6BgpQayl"
   },
   "outputs": [],
   "source": [
    "OUTCOME_COL = 'post_sum_gross_bookings'\n",
    "TREATMENT_COL = 'target'\n",
    "SCORE_COL = 'pihat'\n",
    "GROUPBY_COL = 'billing_zip'\n",
    "NAN_INT = -98765    # A random integer to impute missing values with"
   ]
  },
  {
   "cell_type": "code",
   "execution_count": null,
   "metadata": {
    "id": "ar9qWVkpQayl"
   },
   "outputs": [],
   "source": [
    "PROPENSITY_FEATURES = ['age_35_to_44',\n",
    "                       'age_45_to_54',\n",
    "                       'age_55_to_64',\n",
    "                       'age_65_to_74',\n",
    "                       'age_75_to_84',\n",
    "                       'education_bachelor_degree_or_higher',\n",
    "                       'education_high_school_graduate',\n",
    "                       'education_less_than_high_school',\n",
    "                       'median_income',\n",
    "                       'population',\n",
    "                       'unemployment_rate',\n",
    "                       'comparison_shopper_prob',\n",
    "                       'is_fake_current_email',\n",
    "                       'is_referral',\n",
    "                       'is_uber_current_email',\n",
    "                       'signup_device',\n",
    "                       'signup_form',\n",
    "                       'pct_commute_trips',\n",
    "                       'pct_weekend_trips',\n",
    "                       'recency_days',\n",
    "                       'sum_gross_bookings',\n",
    "                       'sum_incentives',\n",
    "                       'surge_multiplier_avg',\n",
    "                       'trips_within_time_period',\n",
    "                       'days_since_ft']\n",
    "\n",
    "MATCHING_COVARIATES = ['comparison_shopper_prob',\n",
    "                       SCORE_COL,\n",
    "                       'pct_commute_trips',\n",
    "                       'pct_weekend_trips',\n",
    "                       'recency_days',\n",
    "                       'sum_gross_bookings',\n",
    "                       'sum_incentives',\n",
    "                       'surge_multiplier_avg',\n",
    "                       'trips_within_time_period',\n",
    "                       'days_since_ft']\n",
    "\n",
    "INFERENCE_FEATURES = PROPENSITY_FEATURES + [SCORE_COL]"
   ]
  },
  {
   "cell_type": "markdown",
   "metadata": {
    "id": "5hzEs7X0Qayl",
    "toc-hr-collapsed": true
   },
   "source": [
    "# Data PreProcessing"
   ]
  },
  {
   "cell_type": "markdown",
   "metadata": {
    "id": "sv4Rif9VQayl"
   },
   "source": [
    "## Categorical Features"
   ]
  },
  {
   "cell_type": "code",
   "execution_count": null,
   "metadata": {
    "id": "UrIzbKqHQayl"
   },
   "outputs": [],
   "source": [
    "ENCODING_COLS = [\n",
    "'channel',\n",
    "'signup_device',\n",
    "'signup_form',\n",
    "'trip_most_freq_prdct_name']"
   ]
  },
  {
   "cell_type": "code",
   "execution_count": null,
   "metadata": {
    "id": "mkK14Bx9Qaym"
   },
   "outputs": [],
   "source": [
    "# Label Encoding\n",
    "threshold = int(0.001 * df.shape[0])\n",
    "lbe = LabelEncoder(min_obs=threshold)\n",
    "df[ENCODING_COLS] = lbe.fit_transform(df[ENCODING_COLS])"
   ]
  },
  {
   "cell_type": "markdown",
   "metadata": {
    "id": "uJcw-eghQaym"
   },
   "source": [
    "## Numerical Features"
   ]
  },
  {
   "cell_type": "code",
   "execution_count": null,
   "metadata": {
    "id": "iyOYG_O4Qaym",
    "outputId": "bc707dfb-6520-4146-b12c-79d15ba4d8b9"
   },
   "outputs": [
    {
     "data": {
      "text/plain": [
       "<matplotlib.axes._subplots.AxesSubplot at 0x7fab497f4710>"
      ]
     },
     "execution_count": 17,
     "metadata": {},
     "output_type": "execute_result"
    },
    {
     "data": {
      "image/png": "[encoded data removed]",
      "text/plain": [
       "<Figure size 432x288 with 1 Axes>"
      ]
     },
     "metadata": {
      "needs_background": "light"
     },
     "output_type": "display_data"
    }
   ],
   "source": [
    "df['sum_gross_bookings'].hist()"
   ]
  },
  {
   "cell_type": "code",
   "execution_count": null,
   "metadata": {
    "id": "R1hzhIvsQaym"
   },
   "outputs": [],
   "source": [
    "# Log transform\n",
    "df['sum_gross_bookings'] = np.log1p(df['sum_gross_bookings']).fillna(0)"
   ]
  },
  {
   "cell_type": "code",
   "execution_count": null,
   "metadata": {
    "id": "YXT5FCyLQaym",
    "outputId": "0bd0165c-b295-4ab5-e3c8-1434b241e39d"
   },
   "outputs": [
    {
     "data": {
      "text/plain": [
       "<matplotlib.axes._subplots.AxesSubplot at 0x7fab09622320>"
      ]
     },
     "execution_count": 23,
     "metadata": {},
     "output_type": "execute_result"
    },
    {
     "data": {
      "image/png": "[encoded data removed]",
      "text/plain": [
       "<Figure size 432x288 with 1 Axes>"
      ]
     },
     "metadata": {
      "needs_background": "light"
     },
     "output_type": "display_data"
    }
   ],
   "source": [
    "df['sum_gross_bookings'].hist()"
   ]
  },
  {
   "cell_type": "markdown",
   "metadata": {
    "id": "FmI3BjQ6Qaym"
   },
   "source": [
    "## Missing Values"
   ]
  },
  {
   "cell_type": "code",
   "execution_count": null,
   "metadata": {
    "id": "wneAMoHiQaym",
    "outputId": "6625d528-85da-41d0-85ba-ea818d3e510d"
   },
   "outputs": [
    {
     "data": {
      "text/html": [
       "<div>\n",
       "<style scoped>\n",
       "    .dataframe tbody tr th:only-of-type {\n",
       "        vertical-align: middle;\n",
       "    }\n",
       "\n",
       "    .dataframe tbody tr th {\n",
       "        vertical-align: top;\n",
       "    }\n",
       "\n",
       "    .dataframe thead th {\n",
       "        text-align: right;\n",
       "    }\n",
       "</style>\n",
       "<table border=\"1\" class=\"dataframe\">\n",
       "  <thead>\n",
       "    <tr style=\"text-align: right;\">\n",
       "      <th></th>\n",
       "      <th>null percentage</th>\n",
       "      <th>dtype</th>\n",
       "      <th>unique values</th>\n",
       "      <th>min</th>\n",
       "      <th>mean</th>\n",
       "      <th>max</th>\n",
       "    </tr>\n",
       "  </thead>\n",
       "  <tbody>\n",
       "    <tr>\n",
       "      <th>post_sum_gross_bookings</th>\n",
       "      <td>0.0000</td>\n",
       "      <td>float64</td>\n",
       "      <td>32373</td>\n",
       "      <td>0.0000</td>\n",
       "      <td>134.4562</td>\n",
       "      <td>7027.4500</td>\n",
       "    </tr>\n",
       "    <tr>\n",
       "      <th>sum_gross_bookings_bz</th>\n",
       "      <td>0.0000</td>\n",
       "      <td>float64</td>\n",
       "      <td>4596</td>\n",
       "      <td>0.0000</td>\n",
       "      <td>9.0034</td>\n",
       "      <td>9656.7400</td>\n",
       "    </tr>\n",
       "    <tr>\n",
       "      <th>median_income</th>\n",
       "      <td>0.0000</td>\n",
       "      <td>int64</td>\n",
       "      <td>713</td>\n",
       "      <td>0</td>\n",
       "      <td>85131.1665</td>\n",
       "      <td>223893</td>\n",
       "    </tr>\n",
       "    <tr>\n",
       "      <th>pct_commute_trips</th>\n",
       "      <td>0.0000</td>\n",
       "      <td>float64</td>\n",
       "      <td>2163</td>\n",
       "      <td>0.0000</td>\n",
       "      <td>0.2552</td>\n",
       "      <td>1.0000</td>\n",
       "    </tr>\n",
       "    <tr>\n",
       "      <th>pct_weekend_trips</th>\n",
       "      <td>0.0000</td>\n",
       "      <td>float64</td>\n",
       "      <td>1776</td>\n",
       "      <td>0.0000</td>\n",
       "      <td>0.3684</td>\n",
       "      <td>1.0000</td>\n",
       "    </tr>\n",
       "  </tbody>\n",
       "</table>\n",
       "</div>"
      ],
      "text/plain": [
       "                         null percentage    dtype  unique values    min  \\\n",
       "post_sum_gross_bookings           0.0000  float64          32373 0.0000   \n",
       "sum_gross_bookings_bz             0.0000  float64           4596 0.0000   \n",
       "median_income                     0.0000    int64            713      0   \n",
       "pct_commute_trips                 0.0000  float64           2163 0.0000   \n",
       "pct_weekend_trips                 0.0000  float64           1776 0.0000   \n",
       "\n",
       "                              mean       max  \n",
       "post_sum_gross_bookings   134.4562 7027.4500  \n",
       "sum_gross_bookings_bz       9.0034 9656.7400  \n",
       "median_income           85131.1665    223893  \n",
       "pct_commute_trips           0.2552    1.0000  \n",
       "pct_weekend_trips           0.3684    1.0000  "
      ]
     },
     "execution_count": 24,
     "metadata": {},
     "output_type": "execute_result"
    }
   ],
   "source": [
    "df_info.sort_values('null percentage', ascending=False).head(n=5)"
   ]
  },
  {
   "cell_type": "code",
   "execution_count": null,
   "metadata": {
    "id": "Tffer4HOQaym"
   },
   "outputs": [],
   "source": [
    "# drop users with missing values in following columns\n",
    "cols_to_drop_users = [\n",
    "                      'signup_form',\n",
    "                      'days_since_signup']\n",
    "relevant_cols = np.union1d(PROPENSITY_FEATURES, np.union1d(MATCHING_COVARIATES, INFERENCE_FEATURES))"
   ]
  },
  {
   "cell_type": "code",
   "execution_count": null,
   "metadata": {
    "id": "wHVEvSmbQaym",
    "outputId": "327f399c-7ab9-410e-aa58-13db858b396b"
   },
   "outputs": [
    {
     "data": {
      "text/plain": [
       "age_35_to_44                           0\n",
       "age_45_to_54                           0\n",
       "age_55_to_64                           0\n",
       "age_65_to_74                           0\n",
       "age_75_to_84                           0\n",
       "comparison_shopper_prob                0\n",
       "days_since_ft                          0\n",
       "education_bachelor_degree_or_higher    0\n",
       "education_high_school_graduate         0\n",
       "education_less_than_high_school        0\n",
       "is_fake_current_email                  0\n",
       "is_referral                            0\n",
       "is_uber_current_email                  0\n",
       "median_income                          0\n",
       "pct_commute_trips                      0\n",
       "pct_weekend_trips                      0\n",
       "pihat                                  0\n",
       "population                             0\n",
       "recency_days                           0\n",
       "signup_device                          0\n",
       "signup_form                            0\n",
       "sum_gross_bookings                     0\n",
       "sum_incentives                         0\n",
       "surge_multiplier_avg                   0\n",
       "trips_within_time_period               0\n",
       "unemployment_rate                      0\n",
       "dtype: int64"
      ]
     },
     "execution_count": 27,
     "metadata": {},
     "output_type": "execute_result"
    }
   ],
   "source": [
    "df[[c for c in relevant_cols if c in df]].isnull().sum()"
   ]
  },
  {
   "cell_type": "markdown",
   "metadata": {
    "id": "oxbtYPLWQaym"
   },
   "source": [
    "# Build Propensity Model"
   ]
  },
  {
   "cell_type": "code",
   "execution_count": null,
   "metadata": {
    "id": "m0vNLpXFQaym"
   },
   "outputs": [],
   "source": [
    "params = {\n",
    "          'objective': 'binary',\n",
    "          'metric': 'auc',\n",
    "          'learning_rate': 0.1,\n",
    "          'num_leaves': 6,\n",
    "          'bagging_freq': 1,\n",
    "          'seed': 8,\n",
    "          'verbose': 0,\n",
    "          'num_threads': -1,\n",
    "         }\n",
    "\n",
    "PROPENSITY_FEATURES = [col for col in PROPENSITY_FEATURES if col in df.columns]"
   ]
  },
  {
   "cell_type": "code",
   "execution_count": null,
   "metadata": {
    "id": "AxFOq5Y1Qayn",
    "outputId": "86729cf3-6865-491c-b5b1-0106c9d257fe"
   },
   "outputs": [
    {
     "name": "stdout",
     "output_type": "stream",
     "text": [
      "n_best 82\n"
     ]
    }
   ],
   "source": [
    "X_trn, X_val, y_trn, y_val = train_test_split(df[PROPENSITY_FEATURES], df[TREATMENT_COL].values, test_size=0.2)\n",
    "\n",
    "lgb_train = lgb.Dataset(X_trn, label=y_trn)\n",
    "lgb_valid = lgb.Dataset(X_val, label=y_val)\n",
    "\n",
    "clf = lgb.train(params,\n",
    "                lgb_train,\n",
    "                num_boost_round=500,\n",
    "                early_stopping_rounds=20,\n",
    "                valid_sets=lgb_valid,\n",
    "                verbose_eval=0)\n",
    "n_best = clf.best_iteration\n",
    "print('n_best', n_best)"
   ]
  },
  {
   "cell_type": "code",
   "execution_count": null,
   "metadata": {
    "id": "cLrb-i8ZQayn",
    "outputId": "5a88d844-93a1-42f1-e66d-90ab3fd2b0ab"
   },
   "outputs": [
    {
     "name": "stdout",
     "output_type": "stream",
     "text": [
      "Validation AUC=0.6780\n"
     ]
    }
   ],
   "source": [
    "p_val = clf.predict(X_val)\n",
    "print('Validation AUC={:.4f}'.format(roc_auc_score(y_val, p_val)))"
   ]
  },
  {
   "cell_type": "code",
   "execution_count": null,
   "metadata": {
    "id": "1wrt6pY5Qayn",
    "outputId": "dc0478f7-a6c5-4426-f819-fa9f72c6f508"
   },
   "outputs": [
    {
     "name": "stdout",
     "output_type": "stream",
     "text": [
      "Train AUC=0.7114\n"
     ]
    }
   ],
   "source": [
    "p_train = clf.predict(X_trn)\n",
    "print('Train AUC={:.4f}'.format(roc_auc_score(y_trn, p_train)))"
   ]
  },
  {
   "cell_type": "code",
   "execution_count": null,
   "metadata": {
    "id": "9i3YQDybQayn"
   },
   "outputs": [],
   "source": [
    "df['pihat']  = clf.predict(df[PROPENSITY_FEATURES])"
   ]
  },
  {
   "cell_type": "code",
   "execution_count": null,
   "metadata": {
    "id": "5YxEf3o8Qayo",
    "outputId": "6c007894-d5b2-4323-bd4e-bd3956be0cd6"
   },
   "outputs": [
    {
     "data": {
      "text/html": [
       "<div>\n",
       "<style scoped>\n",
       "    .dataframe tbody tr th:only-of-type {\n",
       "        vertical-align: middle;\n",
       "    }\n",
       "\n",
       "    .dataframe tbody tr th {\n",
       "        vertical-align: top;\n",
       "    }\n",
       "\n",
       "    .dataframe thead th {\n",
       "        text-align: right;\n",
       "    }\n",
       "</style>\n",
       "<table border=\"1\" class=\"dataframe\">\n",
       "  <thead>\n",
       "    <tr style=\"text-align: right;\">\n",
       "      <th></th>\n",
       "      <th>feature</th>\n",
       "      <th>gain</th>\n",
       "    </tr>\n",
       "  </thead>\n",
       "  <tbody>\n",
       "    <tr>\n",
       "      <th>0</th>\n",
       "      <td>trips_within_time_period</td>\n",
       "      <td>0.3676</td>\n",
       "    </tr>\n",
       "    <tr>\n",
       "      <th>1</th>\n",
       "      <td>comparison_shopper_prob</td>\n",
       "      <td>0.1243</td>\n",
       "    </tr>\n",
       "    <tr>\n",
       "      <th>2</th>\n",
       "      <td>recency_days</td>\n",
       "      <td>0.0860</td>\n",
       "    </tr>\n",
       "    <tr>\n",
       "      <th>3</th>\n",
       "      <td>days_since_ft</td>\n",
       "      <td>0.0572</td>\n",
       "    </tr>\n",
       "    <tr>\n",
       "      <th>4</th>\n",
       "      <td>age_35_to_44</td>\n",
       "      <td>0.0330</td>\n",
       "    </tr>\n",
       "    <tr>\n",
       "      <th>5</th>\n",
       "      <td>pct_weekend_trips</td>\n",
       "      <td>0.0276</td>\n",
       "    </tr>\n",
       "    <tr>\n",
       "      <th>6</th>\n",
       "      <td>signup_device</td>\n",
       "      <td>0.0261</td>\n",
       "    </tr>\n",
       "    <tr>\n",
       "      <th>7</th>\n",
       "      <td>sum_gross_bookings</td>\n",
       "      <td>0.0259</td>\n",
       "    </tr>\n",
       "    <tr>\n",
       "      <th>8</th>\n",
       "      <td>surge_multiplier_avg</td>\n",
       "      <td>0.0232</td>\n",
       "    </tr>\n",
       "    <tr>\n",
       "      <th>9</th>\n",
       "      <td>age_45_to_54</td>\n",
       "      <td>0.0218</td>\n",
       "    </tr>\n",
       "  </tbody>\n",
       "</table>\n",
       "</div>"
      ],
      "text/plain": [
       "                    feature   gain\n",
       "0  trips_within_time_period 0.3676\n",
       "1   comparison_shopper_prob 0.1243\n",
       "2              recency_days 0.0860\n",
       "3             days_since_ft 0.0572\n",
       "4              age_35_to_44 0.0330\n",
       "5         pct_weekend_trips 0.0276\n",
       "6             signup_device 0.0261\n",
       "7        sum_gross_bookings 0.0259\n",
       "8      surge_multiplier_avg 0.0232\n",
       "9              age_45_to_54 0.0218"
      ]
     },
     "execution_count": 51,
     "metadata": {},
     "output_type": "execute_result"
    }
   ],
   "source": [
    "imp = pd.DataFrame({'feature': PROPENSITY_FEATURES,\n",
    "                    'gain': clf.feature_importance(importance_type='gain')})\n",
    "imp.loc[:, 'gain'] = imp.gain / imp.gain.sum()\n",
    "imp = imp.sort_values('gain', ascending=False).set_index('feature')\n",
    "imp = imp.reset_index()\n",
    "imp.head(n=10)"
   ]
  },
  {
   "cell_type": "code",
   "execution_count": null,
   "metadata": {
    "id": "Vjih0KAeQayo",
    "outputId": "070ff3f6-a572-4945-b669-fa0bf479c158"
   },
   "outputs": [
    {
     "name": "stdout",
     "output_type": "stream",
     "text": [
      "AUC: 67.8%\n",
      "PR AUC: 7.8%\n"
     ]
    },
    {
     "data": {
      "image/png": "[encoded data removed]",
      "text/plain": [
       "<Figure size 1152x576 with 2 Axes>"
      ]
     },
     "metadata": {
      "needs_background": "light"
     },
     "output_type": "display_data"
    }
   ],
   "source": [
    "plot_evaluation(y_val, p_val)"
   ]
  },
  {
   "cell_type": "code",
   "execution_count": null,
   "metadata": {
    "id": "VXVjfWkUQayo",
    "outputId": "e72ad8f1-fdf7-4845-e27e-78b42ad8e154"
   },
   "outputs": [
    {
     "name": "stdout",
     "output_type": "stream",
     "text": [
      "AUC: 71.1%\n",
      "PR AUC: 12.1%\n"
     ]
    },
    {
     "data": {
      "image/png": "[encoded data removed]",
      "text/plain": [
       "<Figure size 1152x576 with 2 Axes>"
      ]
     },
     "metadata": {
      "needs_background": "light"
     },
     "output_type": "display_data"
    }
   ],
   "source": [
    "plot_evaluation(y_trn, p_train)"
   ]
  },
  {
   "cell_type": "markdown",
   "metadata": {
    "id": "rvb9V5jHQayo"
   },
   "source": [
    "# Propensity Score Matching"
   ]
  },
  {
   "cell_type": "markdown",
   "metadata": {
    "id": "GfM9rcGAtiC_"
   },
   "source": [
    "# New Section"
   ]
  },
  {
   "cell_type": "code",
   "execution_count": null,
   "metadata": {
    "id": "you4-OzHQayo",
    "outputId": "8e5a5fa9-6d9a-4eb0-bd62-7465ec23e098"
   },
   "outputs": [
    {
     "data": {
      "text/plain": [
       "<matplotlib.legend.Legend at 0x7fab494c3550>"
      ]
     },
     "execution_count": 68,
     "metadata": {},
     "output_type": "execute_result"
    },
    {
     "data": {
      "image/png": "[encoded data removed]",
      "text/plain": [
       "<Figure size 576x576 with 1 Axes>"
      ]
     },
     "metadata": {
      "needs_background": "light"
     },
     "output_type": "display_data"
    }
   ],
   "source": [
    "# plot propensity score\n",
    "rcParams['figure.figsize'] = 8,8\n",
    "ax = sns.distplot(df[df[TREATMENT_COL] == 0]['pihat'])\n",
    "sns.distplot(df[df[TREATMENT_COL] == 1]['pihat'])\n",
    "ax.set_xlim(0, 1)\n",
    "ax.set_xlabel(\"propensity scores\")\n",
    "ax.set_ylabel('density')\n",
    "ax.legend(['Control', 'Treatment'])"
   ]
  },
  {
   "cell_type": "code",
   "execution_count": null,
   "metadata": {
    "id": "vGR8VlhsQayo",
    "outputId": "8c02eba4-9b06-48a9-c19a-ab22d54495f7"
   },
   "outputs": [
    {
     "data": {
      "text/html": [
       "<div>\n",
       "<style scoped>\n",
       "    .dataframe tbody tr th:only-of-type {\n",
       "        vertical-align: middle;\n",
       "    }\n",
       "\n",
       "    .dataframe tbody tr th {\n",
       "        vertical-align: top;\n",
       "    }\n",
       "\n",
       "    .dataframe thead th {\n",
       "        text-align: right;\n",
       "    }\n",
       "</style>\n",
       "<table border=\"1\" class=\"dataframe\">\n",
       "  <thead>\n",
       "    <tr style=\"text-align: right;\">\n",
       "      <th></th>\n",
       "      <th>Control</th>\n",
       "      <th>Treatment</th>\n",
       "      <th>SMD</th>\n",
       "    </tr>\n",
       "    <tr>\n",
       "      <th>Variable</th>\n",
       "      <th></th>\n",
       "      <th></th>\n",
       "      <th></th>\n",
       "    </tr>\n",
       "  </thead>\n",
       "  <tbody>\n",
       "    <tr>\n",
       "      <th>n</th>\n",
       "      <td>96168</td>\n",
       "      <td>3832</td>\n",
       "      <td></td>\n",
       "    </tr>\n",
       "    <tr>\n",
       "      <th>comparison_shopper_prob</th>\n",
       "      <td>0.26 (0.27)</td>\n",
       "      <td>0.36 (0.29)</td>\n",
       "      <td>0.3327</td>\n",
       "    </tr>\n",
       "    <tr>\n",
       "      <th>days_since_ft</th>\n",
       "      <td>684.11 (505.68)</td>\n",
       "      <td>749.99 (538.00)</td>\n",
       "      <td>0.1262</td>\n",
       "    </tr>\n",
       "    <tr>\n",
       "      <th>pct_commute_trips</th>\n",
       "      <td>0.25 (0.30)</td>\n",
       "      <td>0.26 (0.25)</td>\n",
       "      <td>0.0230</td>\n",
       "    </tr>\n",
       "    <tr>\n",
       "      <th>pct_weekend_trips</th>\n",
       "      <td>0.37 (0.35)</td>\n",
       "      <td>0.37 (0.29)</td>\n",
       "      <td>0.0080</td>\n",
       "    </tr>\n",
       "    <tr>\n",
       "      <th>pihat</th>\n",
       "      <td>0.04 (0.02)</td>\n",
       "      <td>0.06 (0.04)</td>\n",
       "      <td>0.6773</td>\n",
       "    </tr>\n",
       "    <tr>\n",
       "      <th>recency_days</th>\n",
       "      <td>29.02 (25.21)</td>\n",
       "      <td>20.36 (21.06)</td>\n",
       "      <td>-0.3727</td>\n",
       "    </tr>\n",
       "    <tr>\n",
       "      <th>sum_gross_bookings</th>\n",
       "      <td>4.20 (1.24)</td>\n",
       "      <td>4.73 (1.34)</td>\n",
       "      <td>0.4137</td>\n",
       "    </tr>\n",
       "    <tr>\n",
       "      <th>sum_incentives</th>\n",
       "      <td>-0.28 (1.68)</td>\n",
       "      <td>-0.39 (1.94)</td>\n",
       "      <td>-0.0601</td>\n",
       "    </tr>\n",
       "    <tr>\n",
       "      <th>surge_multiplier_avg</th>\n",
       "      <td>1.07 (0.16)</td>\n",
       "      <td>1.07 (0.13)</td>\n",
       "      <td>0.0290</td>\n",
       "    </tr>\n",
       "    <tr>\n",
       "      <th>trips_within_time_period</th>\n",
       "      <td>9.86 (18.74)</td>\n",
       "      <td>18.94 (28.10)</td>\n",
       "      <td>0.3803</td>\n",
       "    </tr>\n",
       "  </tbody>\n",
       "</table>\n",
       "</div>"
      ],
      "text/plain": [
       "                                  Control        Treatment     SMD\n",
       "Variable                                                          \n",
       "n                                   96168             3832        \n",
       "comparison_shopper_prob       0.26 (0.27)      0.36 (0.29)  0.3327\n",
       "days_since_ft             684.11 (505.68)  749.99 (538.00)  0.1262\n",
       "pct_commute_trips             0.25 (0.30)      0.26 (0.25)  0.0230\n",
       "pct_weekend_trips             0.37 (0.35)      0.37 (0.29)  0.0080\n",
       "pihat                         0.04 (0.02)      0.06 (0.04)  0.6773\n",
       "recency_days                29.02 (25.21)    20.36 (21.06) -0.3727\n",
       "sum_gross_bookings            4.20 (1.24)      4.73 (1.34)  0.4137\n",
       "sum_incentives               -0.28 (1.68)     -0.39 (1.94) -0.0601\n",
       "surge_multiplier_avg          1.07 (0.16)      1.07 (0.13)  0.0290\n",
       "trips_within_time_period     9.86 (18.74)    18.94 (28.10)  0.3803"
      ]
     },
     "execution_count": 69,
     "metadata": {},
     "output_type": "execute_result"
    }
   ],
   "source": [
    "# before matching\n",
    "create_table_one(df, treatment_col='target', features=MATCHING_COVARIATES)"
   ]
  },
  {
   "cell_type": "code",
   "execution_count": null,
   "metadata": {
    "id": "ocv-FzNbQayo"
   },
   "outputs": [],
   "source": [
    "matcher = NearestNeighborMatch(caliper=0.01, replace=True)\n",
    "df_matched = matcher.match(data=df, treatment_col='target', score_cols=['pihat'])"
   ]
  },
  {
   "cell_type": "code",
   "execution_count": null,
   "metadata": {
    "ExecuteTime": {
     "end_time": "2019-06-25T22:15:42.918640Z",
     "start_time": "2019-06-25T22:15:42.809856Z"
    },
    "id": "htW3oWLiQayp",
    "outputId": "e07257b0-4482-4c60-cae3-27d4160a4703"
   },
   "outputs": [
    {
     "data": {
      "text/html": [
       "<div>\n",
       "<style scoped>\n",
       "    .dataframe tbody tr th:only-of-type {\n",
       "        vertical-align: middle;\n",
       "    }\n",
       "\n",
       "    .dataframe tbody tr th {\n",
       "        vertical-align: top;\n",
       "    }\n",
       "\n",
       "    .dataframe thead th {\n",
       "        text-align: right;\n",
       "    }\n",
       "</style>\n",
       "<table border=\"1\" class=\"dataframe\">\n",
       "  <thead>\n",
       "    <tr style=\"text-align: right;\">\n",
       "      <th></th>\n",
       "      <th>Control</th>\n",
       "      <th>Treatment</th>\n",
       "      <th>SMD</th>\n",
       "    </tr>\n",
       "    <tr>\n",
       "      <th>Variable</th>\n",
       "      <th></th>\n",
       "      <th></th>\n",
       "      <th></th>\n",
       "    </tr>\n",
       "  </thead>\n",
       "  <tbody>\n",
       "    <tr>\n",
       "      <th>n</th>\n",
       "      <td>3773</td>\n",
       "      <td>3773</td>\n",
       "      <td></td>\n",
       "    </tr>\n",
       "    <tr>\n",
       "      <th>comparison_shopper_prob</th>\n",
       "      <td>0.37 (0.29)</td>\n",
       "      <td>0.36 (0.29)</td>\n",
       "      <td>-0.0482</td>\n",
       "    </tr>\n",
       "    <tr>\n",
       "      <th>days_since_ft</th>\n",
       "      <td>777.55 (535.15)</td>\n",
       "      <td>755.21 (536.08)</td>\n",
       "      <td>-0.0417</td>\n",
       "    </tr>\n",
       "    <tr>\n",
       "      <th>pct_commute_trips</th>\n",
       "      <td>0.26 (0.25)</td>\n",
       "      <td>0.26 (0.25)</td>\n",
       "      <td>-0.0014</td>\n",
       "    </tr>\n",
       "    <tr>\n",
       "      <th>pct_weekend_trips</th>\n",
       "      <td>0.37 (0.28)</td>\n",
       "      <td>0.37 (0.29)</td>\n",
       "      <td>0.0197</td>\n",
       "    </tr>\n",
       "    <tr>\n",
       "      <th>pihat</th>\n",
       "      <td>0.06 (0.03)</td>\n",
       "      <td>0.06 (0.03)</td>\n",
       "      <td>-0.0000</td>\n",
       "    </tr>\n",
       "    <tr>\n",
       "      <th>recency_days</th>\n",
       "      <td>18.96 (20.19)</td>\n",
       "      <td>20.55 (21.11)</td>\n",
       "      <td>0.0772</td>\n",
       "    </tr>\n",
       "    <tr>\n",
       "      <th>sum_gross_bookings</th>\n",
       "      <td>4.85 (1.34)</td>\n",
       "      <td>4.72 (1.34)</td>\n",
       "      <td>-0.0936</td>\n",
       "    </tr>\n",
       "    <tr>\n",
       "      <th>sum_incentives</th>\n",
       "      <td>-0.38 (1.53)</td>\n",
       "      <td>-0.37 (1.72)</td>\n",
       "      <td>0.0052</td>\n",
       "    </tr>\n",
       "    <tr>\n",
       "      <th>surge_multiplier_avg</th>\n",
       "      <td>1.07 (0.14)</td>\n",
       "      <td>1.07 (0.13)</td>\n",
       "      <td>-0.0144</td>\n",
       "    </tr>\n",
       "    <tr>\n",
       "      <th>trips_within_time_period</th>\n",
       "      <td>20.50 (29.40)</td>\n",
       "      <td>18.62 (27.79)</td>\n",
       "      <td>-0.0656</td>\n",
       "    </tr>\n",
       "  </tbody>\n",
       "</table>\n",
       "</div>"
      ],
      "text/plain": [
       "                                  Control        Treatment     SMD\n",
       "Variable                                                          \n",
       "n                                    3773             3773        \n",
       "comparison_shopper_prob       0.37 (0.29)      0.36 (0.29) -0.0482\n",
       "days_since_ft             777.55 (535.15)  755.21 (536.08) -0.0417\n",
       "pct_commute_trips             0.26 (0.25)      0.26 (0.25) -0.0014\n",
       "pct_weekend_trips             0.37 (0.28)      0.37 (0.29)  0.0197\n",
       "pihat                         0.06 (0.03)      0.06 (0.03) -0.0000\n",
       "recency_days                18.96 (20.19)    20.55 (21.11)  0.0772\n",
       "sum_gross_bookings            4.85 (1.34)      4.72 (1.34) -0.0936\n",
       "sum_incentives               -0.38 (1.53)     -0.37 (1.72)  0.0052\n",
       "surge_multiplier_avg          1.07 (0.14)      1.07 (0.13) -0.0144\n",
       "trips_within_time_period    20.50 (29.40)    18.62 (27.79) -0.0656"
      ]
     },
     "execution_count": 70,
     "metadata": {},
     "output_type": "execute_result"
    }
   ],
   "source": [
    "# after matching\n",
    "create_table_one(df_matched, treatment_col='target', features=MATCHING_COVARIATES)"
   ]
  },
  {
   "cell_type": "code",
   "execution_count": null,
   "metadata": {
    "id": "xZ00j2SbQayp",
    "outputId": "658644dd-5344-48c0-8fd2-6454bc6198a3"
   },
   "outputs": [
    {
     "data": {
      "text/plain": [
       "<matplotlib.legend.Legend at 0x7fab09577630>"
      ]
     },
     "execution_count": 72,
     "metadata": {},
     "output_type": "execute_result"
    },
    {
     "data": {
      "image/png": "[encoded data removed]",
      "text/plain": [
       "<Figure size 576x576 with 1 Axes>"
      ]
     },
     "metadata": {
      "needs_background": "light"
     },
     "output_type": "display_data"
    }
   ],
   "source": [
    "# plot propensity score\n",
    "ax = sns.distplot(df_matched[df_matched[TREATMENT_COL] == 0]['pihat'])\n",
    "sns.distplot((df_matched[df_matched[TREATMENT_COL] == 1]['pihat']))\n",
    "ax.set_xlim(0, 1)\n",
    "ax.set_xlabel(\"propensity scores\")\n",
    "ax.set_ylabel('density')\n",
    "ax.legend(['Control', 'Treatment'])"
   ]
  },
  {
   "cell_type": "markdown",
   "metadata": {
    "id": "hUVQjeMXQayp"
   },
   "source": [
    "### Re-Calibrate propensity (`pihat_recal`) after matching"
   ]
  },
  {
   "cell_type": "code",
   "execution_count": null,
   "metadata": {
    "ExecuteTime": {
     "end_time": "2019-06-25T22:15:43.060983Z",
     "start_time": "2019-06-25T22:15:42.920456Z"
    },
    "id": "--46VwhbQayp"
   },
   "outputs": [],
   "source": [
    "p_model = ElasticNetPropensityModel()\n",
    "ohe = OneHotEncoder(min_obs=df.shape[0] * 0.01)\n",
    "X_cat = ohe.fit_transform(df_matched[ENCODING_COLS]).todense()\n",
    "X = np.hstack([df_matched[PROPENSITY_FEATURES].values, X_cat])\n",
    "\n",
    "df_matched['pihat_recal'] = p_model.fit_predict(X, df_matched['target'])"
   ]
  },
  {
   "cell_type": "code",
   "execution_count": null,
   "metadata": {
    "ExecuteTime": {
     "end_time": "2019-06-25T22:15:43.167319Z",
     "start_time": "2019-06-25T22:15:43.062687Z"
    },
    "id": "xYV4_5xoQayp",
    "outputId": "4506bcac-f1a4-4301-8353-89bb08be99ee"
   },
   "outputs": [
    {
     "data": {
      "text/html": [
       "<div>\n",
       "<style scoped>\n",
       "    .dataframe tbody tr th:only-of-type {\n",
       "        vertical-align: middle;\n",
       "    }\n",
       "\n",
       "    .dataframe tbody tr th {\n",
       "        vertical-align: top;\n",
       "    }\n",
       "\n",
       "    .dataframe thead th {\n",
       "        text-align: right;\n",
       "    }\n",
       "</style>\n",
       "<table border=\"1\" class=\"dataframe\">\n",
       "  <thead>\n",
       "    <tr style=\"text-align: right;\">\n",
       "      <th></th>\n",
       "      <th>Control</th>\n",
       "      <th>Treatment</th>\n",
       "      <th>SMD</th>\n",
       "    </tr>\n",
       "    <tr>\n",
       "      <th>Variable</th>\n",
       "      <th></th>\n",
       "      <th></th>\n",
       "      <th></th>\n",
       "    </tr>\n",
       "  </thead>\n",
       "  <tbody>\n",
       "    <tr>\n",
       "      <th>n</th>\n",
       "      <td>3773</td>\n",
       "      <td>3773</td>\n",
       "      <td></td>\n",
       "    </tr>\n",
       "    <tr>\n",
       "      <th>comparison_shopper_prob</th>\n",
       "      <td>0.37 (0.29)</td>\n",
       "      <td>0.36 (0.29)</td>\n",
       "      <td>-0.0482</td>\n",
       "    </tr>\n",
       "    <tr>\n",
       "      <th>days_since_ft</th>\n",
       "      <td>777.55 (535.15)</td>\n",
       "      <td>755.21 (536.08)</td>\n",
       "      <td>-0.0417</td>\n",
       "    </tr>\n",
       "    <tr>\n",
       "      <th>pct_commute_trips</th>\n",
       "      <td>0.26 (0.25)</td>\n",
       "      <td>0.26 (0.25)</td>\n",
       "      <td>-0.0014</td>\n",
       "    </tr>\n",
       "    <tr>\n",
       "      <th>pct_weekend_trips</th>\n",
       "      <td>0.37 (0.28)</td>\n",
       "      <td>0.37 (0.29)</td>\n",
       "      <td>0.0197</td>\n",
       "    </tr>\n",
       "    <tr>\n",
       "      <th>pihat</th>\n",
       "      <td>0.06 (0.03)</td>\n",
       "      <td>0.06 (0.03)</td>\n",
       "      <td>-0.0000</td>\n",
       "    </tr>\n",
       "    <tr>\n",
       "      <th>pihat_recal</th>\n",
       "      <td>0.50 (0.01)</td>\n",
       "      <td>0.50 (0.01)</td>\n",
       "      <td>0.0573</td>\n",
       "    </tr>\n",
       "    <tr>\n",
       "      <th>recency_days</th>\n",
       "      <td>18.96 (20.19)</td>\n",
       "      <td>20.55 (21.11)</td>\n",
       "      <td>0.0772</td>\n",
       "    </tr>\n",
       "    <tr>\n",
       "      <th>sum_gross_bookings</th>\n",
       "      <td>4.85 (1.34)</td>\n",
       "      <td>4.72 (1.34)</td>\n",
       "      <td>-0.0936</td>\n",
       "    </tr>\n",
       "    <tr>\n",
       "      <th>sum_incentives</th>\n",
       "      <td>-0.38 (1.53)</td>\n",
       "      <td>-0.37 (1.72)</td>\n",
       "      <td>0.0052</td>\n",
       "    </tr>\n",
       "    <tr>\n",
       "      <th>surge_multiplier_avg</th>\n",
       "      <td>1.07 (0.14)</td>\n",
       "      <td>1.07 (0.13)</td>\n",
       "      <td>-0.0144</td>\n",
       "    </tr>\n",
       "    <tr>\n",
       "      <th>trips_within_time_period</th>\n",
       "      <td>20.50 (29.40)</td>\n",
       "      <td>18.62 (27.79)</td>\n",
       "      <td>-0.0656</td>\n",
       "    </tr>\n",
       "  </tbody>\n",
       "</table>\n",
       "</div>"
      ],
      "text/plain": [
       "                                  Control        Treatment     SMD\n",
       "Variable                                                          \n",
       "n                                    3773             3773        \n",
       "comparison_shopper_prob       0.37 (0.29)      0.36 (0.29) -0.0482\n",
       "days_since_ft             777.55 (535.15)  755.21 (536.08) -0.0417\n",
       "pct_commute_trips             0.26 (0.25)      0.26 (0.25) -0.0014\n",
       "pct_weekend_trips             0.37 (0.28)      0.37 (0.29)  0.0197\n",
       "pihat                         0.06 (0.03)      0.06 (0.03) -0.0000\n",
       "pihat_recal                   0.50 (0.01)      0.50 (0.01)  0.0573\n",
       "recency_days                18.96 (20.19)    20.55 (21.11)  0.0772\n",
       "sum_gross_bookings            4.85 (1.34)      4.72 (1.34) -0.0936\n",
       "sum_incentives               -0.38 (1.53)     -0.37 (1.72)  0.0052\n",
       "surge_multiplier_avg          1.07 (0.14)      1.07 (0.13) -0.0144\n",
       "trips_within_time_period    20.50 (29.40)    18.62 (27.79) -0.0656"
      ]
     },
     "execution_count": 75,
     "metadata": {},
     "output_type": "execute_result"
    }
   ],
   "source": [
    "create_table_one(df_matched, treatment_col='target', features=MATCHING_COVARIATES+['pihat_recal'])"
   ]
  },
  {
   "cell_type": "code",
   "execution_count": null,
   "metadata": {
    "id": "y_sM-cLpQayp",
    "outputId": "41da907f-3b6d-4b74-9545-abdd267cdeae"
   },
   "outputs": [
    {
     "data": {
      "text/plain": [
       "<matplotlib.legend.Legend at 0x7fab29a4dc18>"
      ]
     },
     "execution_count": 77,
     "metadata": {},
     "output_type": "execute_result"
    },
    {
     "data": {
      "image/png": "[encoded data removed]",
      "text/plain": [
       "<Figure size 576x576 with 1 Axes>"
      ]
     },
     "metadata": {
      "needs_background": "light"
     },
     "output_type": "display_data"
    }
   ],
   "source": [
    "# plot propensity score\n",
    "ax = sns.distplot(df_matched[df_matched[TREATMENT_COL] == 0]['pihat_recal'])\n",
    "sns.distplot((df_matched[df_matched[TREATMENT_COL] == 1]['pihat_recal']))\n",
    "ax.set_xlim(0, 1)\n",
    "ax.set_xlabel(\"propensity scores\")\n",
    "ax.set_ylabel('density')\n",
    "ax.legend(['Control', 'Treatment'])"
   ]
  },
  {
   "cell_type": "markdown",
   "metadata": {
    "id": "ArjWHUyrQayp"
   },
   "source": [
    "# Inference Analysis"
   ]
  },
  {
   "cell_type": "code",
   "execution_count": null,
   "metadata": {
    "id": "ij96imuwQayp"
   },
   "outputs": [],
   "source": [
    "def prepare_inputs(df, p_col='pihat', w_col='target', y_col='post_sum_gross_bookings', inference_features=INFERENCE_FEATURES):\n",
    "    X =df[INFERENCE_FEATURES].values\n",
    "    p = df[p_col].values\n",
    "    w = df[w_col].values\n",
    "    df[y_col] = df[y_col].fillna(0)\n",
    "    y = df[y_col].values\n",
    "\n",
    "    return X, p ,w, y"
   ]
  },
  {
   "cell_type": "code",
   "execution_count": null,
   "metadata": {
    "id": "N5mfPme3Qayq"
   },
   "outputs": [],
   "source": [
    "INFERENCE_FEATURES_LR =[col for col in INFERENCE_FEATURES if col not in ENCODING_COLS ]"
   ]
  },
  {
   "cell_type": "code",
   "execution_count": null,
   "metadata": {
    "id": "JLkia6OyQayq"
   },
   "outputs": [],
   "source": [
    "def run_learners(df, p_col='pihat', w_col='target', y_col='post_sum_gross_bookings', k=5):\n",
    "    preds_dict = {}\n",
    "\n",
    "    for base_learner,label_l in zip([BaseSRegressor, BaseTRegressor, BaseXRegressor, BaseRRegressor],['S','T','X','R']):\n",
    "        for model,label_m in zip([LinearRegression, XGBRegressor],['LR', 'XGB']):\n",
    "            if label_m !='LR':\n",
    "                X, p, w, y = prepare_inputs(df, p_col, w_col, y_col)\n",
    "            else:\n",
    "                ohe = OneHotEncoder(min_obs=df.shape[0] * 0.01)\n",
    "                X_cat = ohe.fit_transform(df[ENCODING_COLS]).todense()\n",
    "                X = np.hstack([df[INFERENCE_FEATURES_LR].values, X_cat])\n",
    "                p = df[p_col].values\n",
    "                w = df[w_col].values\n",
    "                df[y_col] = df[y_col].fillna(0)\n",
    "                y = df[y_col].values\n",
    "\n",
    "            if label_l == 'S':\n",
    "                learner = base_learner(learner=model())\n",
    "                ate, lb, ub = learner.estimate_ate(X=X,treatment=w,y=y,return_ci=True)\n",
    "                preds_dict['{} Learner ({})'.format(label_l, label_m)] = np.ravel([ate, lb, ub])\n",
    "            elif label_l == 'T':\n",
    "                learner = base_learner(learner=model())\n",
    "                ate, lb, ub = learner.estimate_ate(X=X,treatment=w,y=y)\n",
    "                preds_dict['{} Learner ({})'.format(label_l, label_m)] = np.ravel([ate, lb, ub])\n",
    "            elif label_l == 'X':\n",
    "                learner = base_learner(learner=model())\n",
    "                ate, lb, ub = learner.estimate_ate(X=X,p=p,treatment=w,y=y)\n",
    "                preds_dict['{} Learner ({})'.format(label_l, label_m)] = np.ravel([ate, lb, ub])\n",
    "            elif label_l == 'R':\n",
    "                learner = base_learner(model(), n_fold=k)\n",
    "                ate, lb, ub = learner.estimate_ate(X=X,p=p,treatment=w,y=y)\n",
    "                preds_dict['{} Learner ({})'.format(label_l, label_m)] = np.ravel([ate, lb, ub])\n",
    "    return preds_dict"
   ]
  },
  {
   "cell_type": "code",
   "execution_count": null,
   "metadata": {
    "ExecuteTime": {
     "end_time": "2019-06-25T22:15:43.251766Z",
     "start_time": "2019-06-25T22:15:43.226821Z"
    },
    "id": "Ahu5Hq7WQayq"
   },
   "outputs": [],
   "source": [
    "def get_ate_summary(df, preds_dict, w_col='target', y_col='post_sum_gross_bookings'):\n",
    "    preds_df = pd.DataFrame(preds_dict).T\n",
    "    preds_df.columns = ['ATE', 'Lower', 'Upper']\n",
    "    post_treatment = df[df[w_col]==1][y_col].mean()\n",
    "    preds_df['Baseline'] = post_treatment - preds_df['ATE']\n",
    "    preds_df['Lift'] = preds_df['ATE'] / preds_df['Baseline']\n",
    "    preds_df = preds_df.round(4)\n",
    "    return preds_df.T"
   ]
  },
  {
   "cell_type": "code",
   "execution_count": null,
   "metadata": {
    "id": "pUiopYs6Qayq",
    "outputId": "38ec5aab-18eb-4939-f12a-6e18afe1d6fe"
   },
   "outputs": [
    {
     "data": {
      "text/html": [
       "<div>\n",
       "<style scoped>\n",
       "    .dataframe tbody tr th:only-of-type {\n",
       "        vertical-align: middle;\n",
       "    }\n",
       "\n",
       "    .dataframe tbody tr th {\n",
       "        vertical-align: top;\n",
       "    }\n",
       "\n",
       "    .dataframe thead th {\n",
       "        text-align: right;\n",
       "    }\n",
       "</style>\n",
       "<table border=\"1\" class=\"dataframe\">\n",
       "  <thead>\n",
       "    <tr style=\"text-align: right;\">\n",
       "      <th></th>\n",
       "      <th>S Learner (LR)</th>\n",
       "      <th>S Learner (XGB)</th>\n",
       "      <th>T Learner (LR)</th>\n",
       "      <th>T Learner (XGB)</th>\n",
       "      <th>X Learner (LR)</th>\n",
       "      <th>X Learner (XGB)</th>\n",
       "      <th>R Learner (LR)</th>\n",
       "      <th>R Learner (XGB)</th>\n",
       "    </tr>\n",
       "  </thead>\n",
       "  <tbody>\n",
       "    <tr>\n",
       "      <th>ATE</th>\n",
       "      <td>111.9957</td>\n",
       "      <td>102.1401</td>\n",
       "      <td>114.8478</td>\n",
       "      <td>116.3039</td>\n",
       "      <td>114.8478</td>\n",
       "      <td>116.7029</td>\n",
       "      <td>108.3691</td>\n",
       "      <td>115.7606</td>\n",
       "    </tr>\n",
       "    <tr>\n",
       "      <th>Lower</th>\n",
       "      <td>96.8326</td>\n",
       "      <td>89.0628</td>\n",
       "      <td>99.6770</td>\n",
       "      <td>103.5929</td>\n",
       "      <td>99.6770</td>\n",
       "      <td>104.1525</td>\n",
       "      <td>108.1919</td>\n",
       "      <td>115.5891</td>\n",
       "    </tr>\n",
       "    <tr>\n",
       "      <th>Upper</th>\n",
       "      <td>127.1588</td>\n",
       "      <td>115.2174</td>\n",
       "      <td>130.0186</td>\n",
       "      <td>129.0148</td>\n",
       "      <td>130.0186</td>\n",
       "      <td>129.2533</td>\n",
       "      <td>108.5463</td>\n",
       "      <td>115.9321</td>\n",
       "    </tr>\n",
       "    <tr>\n",
       "      <th>Baseline</th>\n",
       "      <td>222.0089</td>\n",
       "      <td>231.8645</td>\n",
       "      <td>219.1568</td>\n",
       "      <td>217.7007</td>\n",
       "      <td>219.1568</td>\n",
       "      <td>217.3017</td>\n",
       "      <td>225.6355</td>\n",
       "      <td>218.2440</td>\n",
       "    </tr>\n",
       "    <tr>\n",
       "      <th>Lift</th>\n",
       "      <td>0.5045</td>\n",
       "      <td>0.4405</td>\n",
       "      <td>0.5240</td>\n",
       "      <td>0.5342</td>\n",
       "      <td>0.5240</td>\n",
       "      <td>0.5371</td>\n",
       "      <td>0.4803</td>\n",
       "      <td>0.5304</td>\n",
       "    </tr>\n",
       "  </tbody>\n",
       "</table>\n",
       "</div>"
      ],
      "text/plain": [
       "          S Learner (LR)  S Learner (XGB)  T Learner (LR)  T Learner (XGB)  \\\n",
       "ATE             111.9957         102.1401        114.8478         116.3039   \n",
       "Lower            96.8326          89.0628         99.6770         103.5929   \n",
       "Upper           127.1588         115.2174        130.0186         129.0148   \n",
       "Baseline        222.0089         231.8645        219.1568         217.7007   \n",
       "Lift              0.5045           0.4405          0.5240           0.5342   \n",
       "\n",
       "          X Learner (LR)  X Learner (XGB)  R Learner (LR)  R Learner (XGB)  \n",
       "ATE             114.8478         116.7029        108.3691         115.7606  \n",
       "Lower            99.6770         104.1525        108.1919         115.5891  \n",
       "Upper           130.0186         129.2533        108.5463         115.9321  \n",
       "Baseline        219.1568         217.3017        225.6355         218.2440  \n",
       "Lift              0.5240           0.5371          0.4803           0.5304  "
      ]
     },
     "execution_count": 90,
     "metadata": {},
     "output_type": "execute_result"
    }
   ],
   "source": [
    "# After Re-Calibrate\n",
    "preds = run_learners(df_matched, y_col='post_sum_gross_bookings', p_col='pihat_recal')\n",
    "get_ate_summary(df_matched, preds, y_col='post_sum_gross_bookings')"
   ]
  },
  {
   "cell_type": "markdown",
   "metadata": {
    "id": "ZhqVH1YLQayq",
    "toc-hr-collapsed": false
   },
   "source": [
    "[link text](https://)# Sensitivity Analysis"
   ]
  },
  {
   "cell_type": "markdown",
   "metadata": {
    "id": "tcZ7oQLLQayq"
   },
   "source": [
    "All Five methods (with One Sided confounding function and default alpha)\n",
    "\n",
    "1.   List item\n",
    "2.   List item\n",
    "\n"
   ]
  },
  {
   "cell_type": "code",
   "execution_count": null,
   "metadata": {
    "id": "003GHAbDQayq"
   },
   "outputs": [],
   "source": [
    "# Calling the Base XLearner class and return the sensitivity analysis summary report\n",
    "learner_x = BaseXRegressor(LinearRegression())\n",
    "sens_x = Sensitivity(df=df_matched, inference_features=INFERENCE_FEATURES, p_col='pihat_recal',\n",
    "                     treatment_col=TREATMENT_COL, outcome_col=OUTCOME_COL, learner=learner_x)\n",
    "# Here for Selection Bias method will use default one-sided confounding function and alpha (quantile range of outcome values) input\n",
    "sens_sumary_x = sens_x.sensitivity_analysis(methods=['Placebo Treatment',\n",
    "                                                     'Random Cause',\n",
    "                                                     'Subset Data',\n",
    "                                                     'Random Replace',\n",
    "                                                     'Selection Bias'], sample_size=0.9)"
   ]
  },
  {
   "cell_type": "code",
   "execution_count": null,
   "metadata": {
    "id": "zO3V8MNfQayr",
    "outputId": "f00b77af-83c6-4f3d-ac69-b0bca4e7f7de"
   },
   "outputs": [
    {
     "data": {
      "text/html": [
       "<div>\n",
       "<style scoped>\n",
       "    .dataframe tbody tr th:only-of-type {\n",
       "        vertical-align: middle;\n",
       "    }\n",
       "\n",
       "    .dataframe tbody tr th {\n",
       "        vertical-align: top;\n",
       "    }\n",
       "\n",
       "    .dataframe thead th {\n",
       "        text-align: right;\n",
       "    }\n",
       "</style>\n",
       "<table border=\"1\" class=\"dataframe\">\n",
       "  <thead>\n",
       "    <tr style=\"text-align: right;\">\n",
       "      <th></th>\n",
       "      <th>Method</th>\n",
       "      <th>ATE</th>\n",
       "      <th>New ATE</th>\n",
       "      <th>New ATE LB</th>\n",
       "      <th>New ATE UB</th>\n",
       "    </tr>\n",
       "  </thead>\n",
       "  <tbody>\n",
       "    <tr>\n",
       "      <th>0</th>\n",
       "      <td>Placebo Treatment</td>\n",
       "      <td>122.1229</td>\n",
       "      <td>1.6599</td>\n",
       "      <td>-13.4635</td>\n",
       "      <td>16.7833</td>\n",
       "    </tr>\n",
       "    <tr>\n",
       "      <th>0</th>\n",
       "      <td>Random Cause</td>\n",
       "      <td>122.1229</td>\n",
       "      <td>122.1624</td>\n",
       "      <td>107.2750</td>\n",
       "      <td>137.0497</td>\n",
       "    </tr>\n",
       "    <tr>\n",
       "      <th>0</th>\n",
       "      <td>Subset Data(sample size @0.9)</td>\n",
       "      <td>122.1229</td>\n",
       "      <td>124.9739</td>\n",
       "      <td>109.0742</td>\n",
       "      <td>140.8735</td>\n",
       "    </tr>\n",
       "    <tr>\n",
       "      <th>0</th>\n",
       "      <td>Random Replace</td>\n",
       "      <td>122.1229</td>\n",
       "      <td>122.0869</td>\n",
       "      <td>107.2040</td>\n",
       "      <td>136.9697</td>\n",
       "    </tr>\n",
       "    <tr>\n",
       "      <th>0</th>\n",
       "      <td>Selection Bias (alpha@-165, with r-sqaure:0.03764</td>\n",
       "      <td>122.1229</td>\n",
       "      <td>287.1229</td>\n",
       "      <td>272.2356</td>\n",
       "      <td>302.0103</td>\n",
       "    </tr>\n",
       "    <tr>\n",
       "      <th>0</th>\n",
       "      <td>Selection Bias (alpha@-129, with r-sqaure:0.02367</td>\n",
       "      <td>122.1229</td>\n",
       "      <td>251.1229</td>\n",
       "      <td>236.2356</td>\n",
       "      <td>266.0103</td>\n",
       "    </tr>\n",
       "    <tr>\n",
       "      <th>0</th>\n",
       "      <td>Selection Bias (alpha@-92, with r-sqaure:0.01235</td>\n",
       "      <td>122.1229</td>\n",
       "      <td>214.1229</td>\n",
       "      <td>199.2356</td>\n",
       "      <td>229.0103</td>\n",
       "    </tr>\n",
       "    <tr>\n",
       "      <th>0</th>\n",
       "      <td>Selection Bias (alpha@-55, with r-sqaure:0.00452</td>\n",
       "      <td>122.1229</td>\n",
       "      <td>177.1229</td>\n",
       "      <td>162.2356</td>\n",
       "      <td>192.0103</td>\n",
       "    </tr>\n",
       "    <tr>\n",
       "      <th>0</th>\n",
       "      <td>Selection Bias (alpha@-18, with r-sqaure:0.00049</td>\n",
       "      <td>122.1229</td>\n",
       "      <td>140.1229</td>\n",
       "      <td>125.2356</td>\n",
       "      <td>155.0103</td>\n",
       "    </tr>\n",
       "    <tr>\n",
       "      <th>0</th>\n",
       "      <td>Selection Bias (alpha@0, with r-sqaure:0.0</td>\n",
       "      <td>122.1229</td>\n",
       "      <td>122.1229</td>\n",
       "      <td>107.2356</td>\n",
       "      <td>137.0103</td>\n",
       "    </tr>\n",
       "    <tr>\n",
       "      <th>0</th>\n",
       "      <td>Selection Bias (alpha@18, with r-sqaure:0.0005</td>\n",
       "      <td>122.1229</td>\n",
       "      <td>104.1229</td>\n",
       "      <td>89.2356</td>\n",
       "      <td>119.0103</td>\n",
       "    </tr>\n",
       "    <tr>\n",
       "      <th>0</th>\n",
       "      <td>Selection Bias (alpha@55, with r-sqaure:0.00472</td>\n",
       "      <td>122.1229</td>\n",
       "      <td>67.1229</td>\n",
       "      <td>52.2356</td>\n",
       "      <td>82.0103</td>\n",
       "    </tr>\n",
       "    <tr>\n",
       "      <th>0</th>\n",
       "      <td>Selection Bias (alpha@92, with r-sqaure:0.0133</td>\n",
       "      <td>122.1229</td>\n",
       "      <td>30.1229</td>\n",
       "      <td>15.2356</td>\n",
       "      <td>45.0103</td>\n",
       "    </tr>\n",
       "    <tr>\n",
       "      <th>0</th>\n",
       "      <td>Selection Bias (alpha@129, with r-sqaure:0.02622</td>\n",
       "      <td>122.1229</td>\n",
       "      <td>-6.8771</td>\n",
       "      <td>-21.7644</td>\n",
       "      <td>8.0103</td>\n",
       "    </tr>\n",
       "    <tr>\n",
       "      <th>0</th>\n",
       "      <td>Selection Bias (alpha@165, with r-sqaure:0.04283</td>\n",
       "      <td>122.1229</td>\n",
       "      <td>-42.8771</td>\n",
       "      <td>-57.7644</td>\n",
       "      <td>-27.9897</td>\n",
       "    </tr>\n",
       "  </tbody>\n",
       "</table>\n",
       "</div>"
      ],
      "text/plain": [
       "                                              Method      ATE  New ATE  \\\n",
       "0                                  Placebo Treatment 122.1229   1.6599   \n",
       "0                                       Random Cause 122.1229 122.1624   \n",
       "0                      Subset Data(sample size @0.9) 122.1229 124.9739   \n",
       "0                                     Random Replace 122.1229 122.0869   \n",
       "0  Selection Bias (alpha@-165, with r-sqaure:0.03764 122.1229 287.1229   \n",
       "0  Selection Bias (alpha@-129, with r-sqaure:0.02367 122.1229 251.1229   \n",
       "0   Selection Bias (alpha@-92, with r-sqaure:0.01235 122.1229 214.1229   \n",
       "0   Selection Bias (alpha@-55, with r-sqaure:0.00452 122.1229 177.1229   \n",
       "0   Selection Bias (alpha@-18, with r-sqaure:0.00049 122.1229 140.1229   \n",
       "0         Selection Bias (alpha@0, with r-sqaure:0.0 122.1229 122.1229   \n",
       "0     Selection Bias (alpha@18, with r-sqaure:0.0005 122.1229 104.1229   \n",
       "0    Selection Bias (alpha@55, with r-sqaure:0.00472 122.1229  67.1229   \n",
       "0     Selection Bias (alpha@92, with r-sqaure:0.0133 122.1229  30.1229   \n",
       "0   Selection Bias (alpha@129, with r-sqaure:0.02622 122.1229  -6.8771   \n",
       "0   Selection Bias (alpha@165, with r-sqaure:0.04283 122.1229 -42.8771   \n",
       "\n",
       "  New ATE LB New ATE UB  \n",
       "0   -13.4635    16.7833  \n",
       "0   107.2750   137.0497  \n",
       "0   109.0742   140.8735  \n",
       "0   107.2040   136.9697  \n",
       "0   272.2356   302.0103  \n",
       "0   236.2356   266.0103  \n",
       "0   199.2356   229.0103  \n",
       "0   162.2356   192.0103  \n",
       "0   125.2356   155.0103  \n",
       "0   107.2356   137.0103  \n",
       "0    89.2356   119.0103  \n",
       "0    52.2356    82.0103  \n",
       "0    15.2356    45.0103  \n",
       "0   -21.7644     8.0103  \n",
       "0   -57.7644   -27.9897  "
      ]
     },
     "execution_count": 17,
     "metadata": {},
     "output_type": "execute_result"
    }
   ],
   "source": [
    "# From the following results, refutation methods show our model is pretty robust;\n",
    "# When alpah > 0, the treated group always has higher mean potential outcomes than the control; when  < 0, the control group is better off.\n",
    "sens_sumary_x"
   ]
  }
 ],
 "metadata": {
  "colab": {
   "provenance": []
  },
  "kernelspec": {
   "display_name": "Python 3 (ipykernel)",
   "language": "python",
   "name": "python3"
  },
  "language_info": {
   "codemirror_mode": {
    "name": "ipython",
    "version": 3
   },
   "file_extension": ".py",
   "mimetype": "text/x-python",
   "name": "python",
   "nbconvert_exporter": "python",
   "pygments_lexer": "ipython3",
   "version": "3.8.5"
  },
  "toc": {
   "base_numbering": 1,
   "nav_menu": {},
   "number_sections": true,
   "sideBar": true,
   "skip_h1_title": false,
   "title_cell": "Table of Contents",
   "title_sidebar": "Contents",
   "toc_cell": false,
   "toc_position": {},
   "toc_section_display": true,
   "toc_window_display": false
  }
 },
 "nbformat": 4,
 "nbformat_minor": 1
}
